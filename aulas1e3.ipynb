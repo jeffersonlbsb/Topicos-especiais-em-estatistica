{
  "cells": [
    {
      "cell_type": "markdown",
      "id": "ae6bae10-e930-4a73-a5e5-1560b51b526d",
      "metadata": {
        "id": "ae6bae10-e930-4a73-a5e5-1560b51b526d"
      },
      "source": [
        "# Atividade 1 - Tópicos especiais em estatística (aula 1)"
      ]
    },
    {
      "cell_type": "markdown",
      "id": "1da48fe7-9c44-4252-882b-279b3c4b5718",
      "metadata": {
        "id": "1da48fe7-9c44-4252-882b-279b3c4b5718"
      },
      "source": [
        "# Stroke Prediction Dataset\n",
        "\n",
        "Link para acessar as informações sobre os dados [aqui](https://www.kaggle.com/datasets/fedesoriano/stroke-prediction-dataset)\n",
        "\n",
        "## Explicação das variáveis desse conjunto de dados\n",
        "\n",
        "1. id: identificador único (será retirado do banco de dados por não servir de nada nessa análise)\n",
        "2. gender: pode ser \"masculino\", \"feminino\" ou \"outros\"\n",
        "3. age: idade do paciente\n",
        "4. hypertension: 0 se o paciente não tem hipertensão e 1 se o paciente tem hipertensão\n",
        "5. heart_disease: 0 se o paciente não tiver nenhuma doença cardíaca e 1 se o paciente tiver alguma doença cardíaca\n",
        "6. ever_married: se já foi casado ou não\n",
        "7. work_type: tipo de emprego\n",
        "8. Residence_type: zona rural ou zona urbana\n",
        "9. avg_glucose_level: nível médio de glicose no sangue\n",
        "10. bmi: índice de massa corporal (IMC)\n",
        "11. smoking_status: paara saber se o paciente é um fumante, se é um ex-fumante, se nunca fumou ou \"desconhecido\"\n",
        "12. stroke: 1 se o paciente teve AVC e 0 se o paciente não teve AVC\n",
        "\n",
        "**Observação**: \"desconhecido\" na variável *smoke_status* significa que essa informação não está disponível para este paciente."
      ]
    },
    {
      "cell_type": "markdown",
      "id": "e0ed2798-dbc0-46bf-9f7e-a0729713aaab",
      "metadata": {
        "id": "e0ed2798-dbc0-46bf-9f7e-a0729713aaab"
      },
      "source": [
        "## Importando as principais bibliotecas"
      ]
    },
    {
      "cell_type": "code",
      "execution_count": null,
      "id": "b8235fdd-7664-4556-86fb-422bf9010d56",
      "metadata": {
        "id": "b8235fdd-7664-4556-86fb-422bf9010d56"
      },
      "outputs": [],
      "source": [
        "import math\n",
        "import pandas as pd\n",
        "import numpy as np\n",
        "import matplotlib.pyplot as plt\n",
        "import seaborn as sns\n",
        "from sklearn.preprocessing import StandardScaler\n",
        "from sklearn.preprocessing import LabelEncoder"
      ]
    },
    {
      "cell_type": "markdown",
      "id": "78c31eb1-b72e-4520-ad94-357eae6055b7",
      "metadata": {
        "id": "78c31eb1-b72e-4520-ad94-357eae6055b7"
      },
      "source": [
        "## Carregando o conjunto de dados"
      ]
    },
    {
      "cell_type": "code",
      "execution_count": null,
      "id": "2542a217-d625-46e2-912a-a291e9a76c27",
      "metadata": {
        "id": "2542a217-d625-46e2-912a-a291e9a76c27"
      },
      "outputs": [],
      "source": [
        "dados = pd.read_csv('/content/healthcare-dataset-stroke-data.csv')"
      ]
    },
    {
      "cell_type": "markdown",
      "id": "f9c5a1bc-20fc-4606-852d-0f76f84b20bd",
      "metadata": {
        "id": "f9c5a1bc-20fc-4606-852d-0f76f84b20bd"
      },
      "source": [
        "## Análise exploratória"
      ]
    },
    {
      "cell_type": "code",
      "execution_count": null,
      "id": "5f9e3e66-22ec-44fa-8904-27f940281835",
      "metadata": {
        "colab": {
          "base_uri": "https://localhost:8080/",
          "height": 462
        },
        "id": "5f9e3e66-22ec-44fa-8904-27f940281835",
        "outputId": "ae5238ef-348f-442b-f547-e4d88c3f6660"
      },
      "outputs": [
        {
          "output_type": "execute_result",
          "data": {
            "text/plain": [
              "      id  gender   age  hypertension  heart_disease ever_married  \\\n",
              "0   9046    Male  67.0             0              1          Yes   \n",
              "1  51676  Female  61.0             0              0          Yes   \n",
              "2  31112    Male  80.0             0              1          Yes   \n",
              "3  60182  Female  49.0             0              0          Yes   \n",
              "4   1665  Female  79.0             1              0          Yes   \n",
              "5  56669    Male  81.0             0              0          Yes   \n",
              "6  53882    Male  74.0             1              1          Yes   \n",
              "7  10434  Female  69.0             0              0           No   \n",
              "8  27419  Female  59.0             0              0          Yes   \n",
              "9  60491  Female  78.0             0              0          Yes   \n",
              "\n",
              "       work_type Residence_type  avg_glucose_level   bmi   smoking_status  \\\n",
              "0        Private          Urban             228.69  36.6  formerly smoked   \n",
              "1  Self-employed          Rural             202.21   NaN     never smoked   \n",
              "2        Private          Rural             105.92  32.5     never smoked   \n",
              "3        Private          Urban             171.23  34.4           smokes   \n",
              "4  Self-employed          Rural             174.12  24.0     never smoked   \n",
              "5        Private          Urban             186.21  29.0  formerly smoked   \n",
              "6        Private          Rural              70.09  27.4     never smoked   \n",
              "7        Private          Urban              94.39  22.8     never smoked   \n",
              "8        Private          Rural              76.15   NaN          Unknown   \n",
              "9        Private          Urban              58.57  24.2          Unknown   \n",
              "\n",
              "   stroke  \n",
              "0       1  \n",
              "1       1  \n",
              "2       1  \n",
              "3       1  \n",
              "4       1  \n",
              "5       1  \n",
              "6       1  \n",
              "7       1  \n",
              "8       1  \n",
              "9       1  "
            ],
            "text/html": [
              "\n",
              "  <div id=\"df-d3a11014-cee4-40ea-b4c8-4f4786538131\">\n",
              "    <div class=\"colab-df-container\">\n",
              "      <div>\n",
              "<style scoped>\n",
              "    .dataframe tbody tr th:only-of-type {\n",
              "        vertical-align: middle;\n",
              "    }\n",
              "\n",
              "    .dataframe tbody tr th {\n",
              "        vertical-align: top;\n",
              "    }\n",
              "\n",
              "    .dataframe thead th {\n",
              "        text-align: right;\n",
              "    }\n",
              "</style>\n",
              "<table border=\"1\" class=\"dataframe\">\n",
              "  <thead>\n",
              "    <tr style=\"text-align: right;\">\n",
              "      <th></th>\n",
              "      <th>id</th>\n",
              "      <th>gender</th>\n",
              "      <th>age</th>\n",
              "      <th>hypertension</th>\n",
              "      <th>heart_disease</th>\n",
              "      <th>ever_married</th>\n",
              "      <th>work_type</th>\n",
              "      <th>Residence_type</th>\n",
              "      <th>avg_glucose_level</th>\n",
              "      <th>bmi</th>\n",
              "      <th>smoking_status</th>\n",
              "      <th>stroke</th>\n",
              "    </tr>\n",
              "  </thead>\n",
              "  <tbody>\n",
              "    <tr>\n",
              "      <th>0</th>\n",
              "      <td>9046</td>\n",
              "      <td>Male</td>\n",
              "      <td>67.0</td>\n",
              "      <td>0</td>\n",
              "      <td>1</td>\n",
              "      <td>Yes</td>\n",
              "      <td>Private</td>\n",
              "      <td>Urban</td>\n",
              "      <td>228.69</td>\n",
              "      <td>36.6</td>\n",
              "      <td>formerly smoked</td>\n",
              "      <td>1</td>\n",
              "    </tr>\n",
              "    <tr>\n",
              "      <th>1</th>\n",
              "      <td>51676</td>\n",
              "      <td>Female</td>\n",
              "      <td>61.0</td>\n",
              "      <td>0</td>\n",
              "      <td>0</td>\n",
              "      <td>Yes</td>\n",
              "      <td>Self-employed</td>\n",
              "      <td>Rural</td>\n",
              "      <td>202.21</td>\n",
              "      <td>NaN</td>\n",
              "      <td>never smoked</td>\n",
              "      <td>1</td>\n",
              "    </tr>\n",
              "    <tr>\n",
              "      <th>2</th>\n",
              "      <td>31112</td>\n",
              "      <td>Male</td>\n",
              "      <td>80.0</td>\n",
              "      <td>0</td>\n",
              "      <td>1</td>\n",
              "      <td>Yes</td>\n",
              "      <td>Private</td>\n",
              "      <td>Rural</td>\n",
              "      <td>105.92</td>\n",
              "      <td>32.5</td>\n",
              "      <td>never smoked</td>\n",
              "      <td>1</td>\n",
              "    </tr>\n",
              "    <tr>\n",
              "      <th>3</th>\n",
              "      <td>60182</td>\n",
              "      <td>Female</td>\n",
              "      <td>49.0</td>\n",
              "      <td>0</td>\n",
              "      <td>0</td>\n",
              "      <td>Yes</td>\n",
              "      <td>Private</td>\n",
              "      <td>Urban</td>\n",
              "      <td>171.23</td>\n",
              "      <td>34.4</td>\n",
              "      <td>smokes</td>\n",
              "      <td>1</td>\n",
              "    </tr>\n",
              "    <tr>\n",
              "      <th>4</th>\n",
              "      <td>1665</td>\n",
              "      <td>Female</td>\n",
              "      <td>79.0</td>\n",
              "      <td>1</td>\n",
              "      <td>0</td>\n",
              "      <td>Yes</td>\n",
              "      <td>Self-employed</td>\n",
              "      <td>Rural</td>\n",
              "      <td>174.12</td>\n",
              "      <td>24.0</td>\n",
              "      <td>never smoked</td>\n",
              "      <td>1</td>\n",
              "    </tr>\n",
              "    <tr>\n",
              "      <th>5</th>\n",
              "      <td>56669</td>\n",
              "      <td>Male</td>\n",
              "      <td>81.0</td>\n",
              "      <td>0</td>\n",
              "      <td>0</td>\n",
              "      <td>Yes</td>\n",
              "      <td>Private</td>\n",
              "      <td>Urban</td>\n",
              "      <td>186.21</td>\n",
              "      <td>29.0</td>\n",
              "      <td>formerly smoked</td>\n",
              "      <td>1</td>\n",
              "    </tr>\n",
              "    <tr>\n",
              "      <th>6</th>\n",
              "      <td>53882</td>\n",
              "      <td>Male</td>\n",
              "      <td>74.0</td>\n",
              "      <td>1</td>\n",
              "      <td>1</td>\n",
              "      <td>Yes</td>\n",
              "      <td>Private</td>\n",
              "      <td>Rural</td>\n",
              "      <td>70.09</td>\n",
              "      <td>27.4</td>\n",
              "      <td>never smoked</td>\n",
              "      <td>1</td>\n",
              "    </tr>\n",
              "    <tr>\n",
              "      <th>7</th>\n",
              "      <td>10434</td>\n",
              "      <td>Female</td>\n",
              "      <td>69.0</td>\n",
              "      <td>0</td>\n",
              "      <td>0</td>\n",
              "      <td>No</td>\n",
              "      <td>Private</td>\n",
              "      <td>Urban</td>\n",
              "      <td>94.39</td>\n",
              "      <td>22.8</td>\n",
              "      <td>never smoked</td>\n",
              "      <td>1</td>\n",
              "    </tr>\n",
              "    <tr>\n",
              "      <th>8</th>\n",
              "      <td>27419</td>\n",
              "      <td>Female</td>\n",
              "      <td>59.0</td>\n",
              "      <td>0</td>\n",
              "      <td>0</td>\n",
              "      <td>Yes</td>\n",
              "      <td>Private</td>\n",
              "      <td>Rural</td>\n",
              "      <td>76.15</td>\n",
              "      <td>NaN</td>\n",
              "      <td>Unknown</td>\n",
              "      <td>1</td>\n",
              "    </tr>\n",
              "    <tr>\n",
              "      <th>9</th>\n",
              "      <td>60491</td>\n",
              "      <td>Female</td>\n",
              "      <td>78.0</td>\n",
              "      <td>0</td>\n",
              "      <td>0</td>\n",
              "      <td>Yes</td>\n",
              "      <td>Private</td>\n",
              "      <td>Urban</td>\n",
              "      <td>58.57</td>\n",
              "      <td>24.2</td>\n",
              "      <td>Unknown</td>\n",
              "      <td>1</td>\n",
              "    </tr>\n",
              "  </tbody>\n",
              "</table>\n",
              "</div>\n",
              "      <button class=\"colab-df-convert\" onclick=\"convertToInteractive('df-d3a11014-cee4-40ea-b4c8-4f4786538131')\"\n",
              "              title=\"Convert this dataframe to an interactive table.\"\n",
              "              style=\"display:none;\">\n",
              "        \n",
              "  <svg xmlns=\"http://www.w3.org/2000/svg\" height=\"24px\"viewBox=\"0 0 24 24\"\n",
              "       width=\"24px\">\n",
              "    <path d=\"M0 0h24v24H0V0z\" fill=\"none\"/>\n",
              "    <path d=\"M18.56 5.44l.94 2.06.94-2.06 2.06-.94-2.06-.94-.94-2.06-.94 2.06-2.06.94zm-11 1L8.5 8.5l.94-2.06 2.06-.94-2.06-.94L8.5 2.5l-.94 2.06-2.06.94zm10 10l.94 2.06.94-2.06 2.06-.94-2.06-.94-.94-2.06-.94 2.06-2.06.94z\"/><path d=\"M17.41 7.96l-1.37-1.37c-.4-.4-.92-.59-1.43-.59-.52 0-1.04.2-1.43.59L10.3 9.45l-7.72 7.72c-.78.78-.78 2.05 0 2.83L4 21.41c.39.39.9.59 1.41.59.51 0 1.02-.2 1.41-.59l7.78-7.78 2.81-2.81c.8-.78.8-2.07 0-2.86zM5.41 20L4 18.59l7.72-7.72 1.47 1.35L5.41 20z\"/>\n",
              "  </svg>\n",
              "      </button>\n",
              "      \n",
              "  <style>\n",
              "    .colab-df-container {\n",
              "      display:flex;\n",
              "      flex-wrap:wrap;\n",
              "      gap: 12px;\n",
              "    }\n",
              "\n",
              "    .colab-df-convert {\n",
              "      background-color: #E8F0FE;\n",
              "      border: none;\n",
              "      border-radius: 50%;\n",
              "      cursor: pointer;\n",
              "      display: none;\n",
              "      fill: #1967D2;\n",
              "      height: 32px;\n",
              "      padding: 0 0 0 0;\n",
              "      width: 32px;\n",
              "    }\n",
              "\n",
              "    .colab-df-convert:hover {\n",
              "      background-color: #E2EBFA;\n",
              "      box-shadow: 0px 1px 2px rgba(60, 64, 67, 0.3), 0px 1px 3px 1px rgba(60, 64, 67, 0.15);\n",
              "      fill: #174EA6;\n",
              "    }\n",
              "\n",
              "    [theme=dark] .colab-df-convert {\n",
              "      background-color: #3B4455;\n",
              "      fill: #D2E3FC;\n",
              "    }\n",
              "\n",
              "    [theme=dark] .colab-df-convert:hover {\n",
              "      background-color: #434B5C;\n",
              "      box-shadow: 0px 1px 3px 1px rgba(0, 0, 0, 0.15);\n",
              "      filter: drop-shadow(0px 1px 2px rgba(0, 0, 0, 0.3));\n",
              "      fill: #FFFFFF;\n",
              "    }\n",
              "  </style>\n",
              "\n",
              "      <script>\n",
              "        const buttonEl =\n",
              "          document.querySelector('#df-d3a11014-cee4-40ea-b4c8-4f4786538131 button.colab-df-convert');\n",
              "        buttonEl.style.display =\n",
              "          google.colab.kernel.accessAllowed ? 'block' : 'none';\n",
              "\n",
              "        async function convertToInteractive(key) {\n",
              "          const element = document.querySelector('#df-d3a11014-cee4-40ea-b4c8-4f4786538131');\n",
              "          const dataTable =\n",
              "            await google.colab.kernel.invokeFunction('convertToInteractive',\n",
              "                                                     [key], {});\n",
              "          if (!dataTable) return;\n",
              "\n",
              "          const docLinkHtml = 'Like what you see? Visit the ' +\n",
              "            '<a target=\"_blank\" href=https://colab.research.google.com/notebooks/data_table.ipynb>data table notebook</a>'\n",
              "            + ' to learn more about interactive tables.';\n",
              "          element.innerHTML = '';\n",
              "          dataTable['output_type'] = 'display_data';\n",
              "          await google.colab.output.renderOutput(dataTable, element);\n",
              "          const docLink = document.createElement('div');\n",
              "          docLink.innerHTML = docLinkHtml;\n",
              "          element.appendChild(docLink);\n",
              "        }\n",
              "      </script>\n",
              "    </div>\n",
              "  </div>\n",
              "  "
            ]
          },
          "metadata": {},
          "execution_count": 4
        }
      ],
      "source": [
        "## as 10 primeiras linhas do conjunto de dados\n",
        "dados.head(10)"
      ]
    },
    {
      "cell_type": "code",
      "execution_count": null,
      "id": "33f42673-befb-4bba-b7c2-edc96fa8ab38",
      "metadata": {
        "colab": {
          "base_uri": "https://localhost:8080/",
          "height": 479
        },
        "id": "33f42673-befb-4bba-b7c2-edc96fa8ab38",
        "outputId": "33c9895c-8cc6-44fc-9cd5-f9aa37eede9e"
      },
      "outputs": [
        {
          "output_type": "execute_result",
          "data": {
            "text/plain": [
              "         id  gender   age  hypertension  heart_disease ever_married  \\\n",
              "5100  68398    Male  82.0             1              0          Yes   \n",
              "5101  36901  Female  45.0             0              0          Yes   \n",
              "5102  45010  Female  57.0             0              0          Yes   \n",
              "5103  22127  Female  18.0             0              0           No   \n",
              "5104  14180  Female  13.0             0              0           No   \n",
              "5105  18234  Female  80.0             1              0          Yes   \n",
              "5106  44873  Female  81.0             0              0          Yes   \n",
              "5107  19723  Female  35.0             0              0          Yes   \n",
              "5108  37544    Male  51.0             0              0          Yes   \n",
              "5109  44679  Female  44.0             0              0          Yes   \n",
              "\n",
              "          work_type Residence_type  avg_glucose_level   bmi   smoking_status  \\\n",
              "5100  Self-employed          Rural              71.97  28.3     never smoked   \n",
              "5101        Private          Urban              97.95  24.5          Unknown   \n",
              "5102        Private          Rural              77.93  21.7     never smoked   \n",
              "5103        Private          Urban              82.85  46.9          Unknown   \n",
              "5104       children          Rural             103.08  18.6          Unknown   \n",
              "5105        Private          Urban              83.75   NaN     never smoked   \n",
              "5106  Self-employed          Urban             125.20  40.0     never smoked   \n",
              "5107  Self-employed          Rural              82.99  30.6     never smoked   \n",
              "5108        Private          Rural             166.29  25.6  formerly smoked   \n",
              "5109       Govt_job          Urban              85.28  26.2          Unknown   \n",
              "\n",
              "      stroke  \n",
              "5100       0  \n",
              "5101       0  \n",
              "5102       0  \n",
              "5103       0  \n",
              "5104       0  \n",
              "5105       0  \n",
              "5106       0  \n",
              "5107       0  \n",
              "5108       0  \n",
              "5109       0  "
            ],
            "text/html": [
              "\n",
              "  <div id=\"df-e449d653-1fc7-4eb1-b0ef-c08e9a685a43\">\n",
              "    <div class=\"colab-df-container\">\n",
              "      <div>\n",
              "<style scoped>\n",
              "    .dataframe tbody tr th:only-of-type {\n",
              "        vertical-align: middle;\n",
              "    }\n",
              "\n",
              "    .dataframe tbody tr th {\n",
              "        vertical-align: top;\n",
              "    }\n",
              "\n",
              "    .dataframe thead th {\n",
              "        text-align: right;\n",
              "    }\n",
              "</style>\n",
              "<table border=\"1\" class=\"dataframe\">\n",
              "  <thead>\n",
              "    <tr style=\"text-align: right;\">\n",
              "      <th></th>\n",
              "      <th>id</th>\n",
              "      <th>gender</th>\n",
              "      <th>age</th>\n",
              "      <th>hypertension</th>\n",
              "      <th>heart_disease</th>\n",
              "      <th>ever_married</th>\n",
              "      <th>work_type</th>\n",
              "      <th>Residence_type</th>\n",
              "      <th>avg_glucose_level</th>\n",
              "      <th>bmi</th>\n",
              "      <th>smoking_status</th>\n",
              "      <th>stroke</th>\n",
              "    </tr>\n",
              "  </thead>\n",
              "  <tbody>\n",
              "    <tr>\n",
              "      <th>5100</th>\n",
              "      <td>68398</td>\n",
              "      <td>Male</td>\n",
              "      <td>82.0</td>\n",
              "      <td>1</td>\n",
              "      <td>0</td>\n",
              "      <td>Yes</td>\n",
              "      <td>Self-employed</td>\n",
              "      <td>Rural</td>\n",
              "      <td>71.97</td>\n",
              "      <td>28.3</td>\n",
              "      <td>never smoked</td>\n",
              "      <td>0</td>\n",
              "    </tr>\n",
              "    <tr>\n",
              "      <th>5101</th>\n",
              "      <td>36901</td>\n",
              "      <td>Female</td>\n",
              "      <td>45.0</td>\n",
              "      <td>0</td>\n",
              "      <td>0</td>\n",
              "      <td>Yes</td>\n",
              "      <td>Private</td>\n",
              "      <td>Urban</td>\n",
              "      <td>97.95</td>\n",
              "      <td>24.5</td>\n",
              "      <td>Unknown</td>\n",
              "      <td>0</td>\n",
              "    </tr>\n",
              "    <tr>\n",
              "      <th>5102</th>\n",
              "      <td>45010</td>\n",
              "      <td>Female</td>\n",
              "      <td>57.0</td>\n",
              "      <td>0</td>\n",
              "      <td>0</td>\n",
              "      <td>Yes</td>\n",
              "      <td>Private</td>\n",
              "      <td>Rural</td>\n",
              "      <td>77.93</td>\n",
              "      <td>21.7</td>\n",
              "      <td>never smoked</td>\n",
              "      <td>0</td>\n",
              "    </tr>\n",
              "    <tr>\n",
              "      <th>5103</th>\n",
              "      <td>22127</td>\n",
              "      <td>Female</td>\n",
              "      <td>18.0</td>\n",
              "      <td>0</td>\n",
              "      <td>0</td>\n",
              "      <td>No</td>\n",
              "      <td>Private</td>\n",
              "      <td>Urban</td>\n",
              "      <td>82.85</td>\n",
              "      <td>46.9</td>\n",
              "      <td>Unknown</td>\n",
              "      <td>0</td>\n",
              "    </tr>\n",
              "    <tr>\n",
              "      <th>5104</th>\n",
              "      <td>14180</td>\n",
              "      <td>Female</td>\n",
              "      <td>13.0</td>\n",
              "      <td>0</td>\n",
              "      <td>0</td>\n",
              "      <td>No</td>\n",
              "      <td>children</td>\n",
              "      <td>Rural</td>\n",
              "      <td>103.08</td>\n",
              "      <td>18.6</td>\n",
              "      <td>Unknown</td>\n",
              "      <td>0</td>\n",
              "    </tr>\n",
              "    <tr>\n",
              "      <th>5105</th>\n",
              "      <td>18234</td>\n",
              "      <td>Female</td>\n",
              "      <td>80.0</td>\n",
              "      <td>1</td>\n",
              "      <td>0</td>\n",
              "      <td>Yes</td>\n",
              "      <td>Private</td>\n",
              "      <td>Urban</td>\n",
              "      <td>83.75</td>\n",
              "      <td>NaN</td>\n",
              "      <td>never smoked</td>\n",
              "      <td>0</td>\n",
              "    </tr>\n",
              "    <tr>\n",
              "      <th>5106</th>\n",
              "      <td>44873</td>\n",
              "      <td>Female</td>\n",
              "      <td>81.0</td>\n",
              "      <td>0</td>\n",
              "      <td>0</td>\n",
              "      <td>Yes</td>\n",
              "      <td>Self-employed</td>\n",
              "      <td>Urban</td>\n",
              "      <td>125.20</td>\n",
              "      <td>40.0</td>\n",
              "      <td>never smoked</td>\n",
              "      <td>0</td>\n",
              "    </tr>\n",
              "    <tr>\n",
              "      <th>5107</th>\n",
              "      <td>19723</td>\n",
              "      <td>Female</td>\n",
              "      <td>35.0</td>\n",
              "      <td>0</td>\n",
              "      <td>0</td>\n",
              "      <td>Yes</td>\n",
              "      <td>Self-employed</td>\n",
              "      <td>Rural</td>\n",
              "      <td>82.99</td>\n",
              "      <td>30.6</td>\n",
              "      <td>never smoked</td>\n",
              "      <td>0</td>\n",
              "    </tr>\n",
              "    <tr>\n",
              "      <th>5108</th>\n",
              "      <td>37544</td>\n",
              "      <td>Male</td>\n",
              "      <td>51.0</td>\n",
              "      <td>0</td>\n",
              "      <td>0</td>\n",
              "      <td>Yes</td>\n",
              "      <td>Private</td>\n",
              "      <td>Rural</td>\n",
              "      <td>166.29</td>\n",
              "      <td>25.6</td>\n",
              "      <td>formerly smoked</td>\n",
              "      <td>0</td>\n",
              "    </tr>\n",
              "    <tr>\n",
              "      <th>5109</th>\n",
              "      <td>44679</td>\n",
              "      <td>Female</td>\n",
              "      <td>44.0</td>\n",
              "      <td>0</td>\n",
              "      <td>0</td>\n",
              "      <td>Yes</td>\n",
              "      <td>Govt_job</td>\n",
              "      <td>Urban</td>\n",
              "      <td>85.28</td>\n",
              "      <td>26.2</td>\n",
              "      <td>Unknown</td>\n",
              "      <td>0</td>\n",
              "    </tr>\n",
              "  </tbody>\n",
              "</table>\n",
              "</div>\n",
              "      <button class=\"colab-df-convert\" onclick=\"convertToInteractive('df-e449d653-1fc7-4eb1-b0ef-c08e9a685a43')\"\n",
              "              title=\"Convert this dataframe to an interactive table.\"\n",
              "              style=\"display:none;\">\n",
              "        \n",
              "  <svg xmlns=\"http://www.w3.org/2000/svg\" height=\"24px\"viewBox=\"0 0 24 24\"\n",
              "       width=\"24px\">\n",
              "    <path d=\"M0 0h24v24H0V0z\" fill=\"none\"/>\n",
              "    <path d=\"M18.56 5.44l.94 2.06.94-2.06 2.06-.94-2.06-.94-.94-2.06-.94 2.06-2.06.94zm-11 1L8.5 8.5l.94-2.06 2.06-.94-2.06-.94L8.5 2.5l-.94 2.06-2.06.94zm10 10l.94 2.06.94-2.06 2.06-.94-2.06-.94-.94-2.06-.94 2.06-2.06.94z\"/><path d=\"M17.41 7.96l-1.37-1.37c-.4-.4-.92-.59-1.43-.59-.52 0-1.04.2-1.43.59L10.3 9.45l-7.72 7.72c-.78.78-.78 2.05 0 2.83L4 21.41c.39.39.9.59 1.41.59.51 0 1.02-.2 1.41-.59l7.78-7.78 2.81-2.81c.8-.78.8-2.07 0-2.86zM5.41 20L4 18.59l7.72-7.72 1.47 1.35L5.41 20z\"/>\n",
              "  </svg>\n",
              "      </button>\n",
              "      \n",
              "  <style>\n",
              "    .colab-df-container {\n",
              "      display:flex;\n",
              "      flex-wrap:wrap;\n",
              "      gap: 12px;\n",
              "    }\n",
              "\n",
              "    .colab-df-convert {\n",
              "      background-color: #E8F0FE;\n",
              "      border: none;\n",
              "      border-radius: 50%;\n",
              "      cursor: pointer;\n",
              "      display: none;\n",
              "      fill: #1967D2;\n",
              "      height: 32px;\n",
              "      padding: 0 0 0 0;\n",
              "      width: 32px;\n",
              "    }\n",
              "\n",
              "    .colab-df-convert:hover {\n",
              "      background-color: #E2EBFA;\n",
              "      box-shadow: 0px 1px 2px rgba(60, 64, 67, 0.3), 0px 1px 3px 1px rgba(60, 64, 67, 0.15);\n",
              "      fill: #174EA6;\n",
              "    }\n",
              "\n",
              "    [theme=dark] .colab-df-convert {\n",
              "      background-color: #3B4455;\n",
              "      fill: #D2E3FC;\n",
              "    }\n",
              "\n",
              "    [theme=dark] .colab-df-convert:hover {\n",
              "      background-color: #434B5C;\n",
              "      box-shadow: 0px 1px 3px 1px rgba(0, 0, 0, 0.15);\n",
              "      filter: drop-shadow(0px 1px 2px rgba(0, 0, 0, 0.3));\n",
              "      fill: #FFFFFF;\n",
              "    }\n",
              "  </style>\n",
              "\n",
              "      <script>\n",
              "        const buttonEl =\n",
              "          document.querySelector('#df-e449d653-1fc7-4eb1-b0ef-c08e9a685a43 button.colab-df-convert');\n",
              "        buttonEl.style.display =\n",
              "          google.colab.kernel.accessAllowed ? 'block' : 'none';\n",
              "\n",
              "        async function convertToInteractive(key) {\n",
              "          const element = document.querySelector('#df-e449d653-1fc7-4eb1-b0ef-c08e9a685a43');\n",
              "          const dataTable =\n",
              "            await google.colab.kernel.invokeFunction('convertToInteractive',\n",
              "                                                     [key], {});\n",
              "          if (!dataTable) return;\n",
              "\n",
              "          const docLinkHtml = 'Like what you see? Visit the ' +\n",
              "            '<a target=\"_blank\" href=https://colab.research.google.com/notebooks/data_table.ipynb>data table notebook</a>'\n",
              "            + ' to learn more about interactive tables.';\n",
              "          element.innerHTML = '';\n",
              "          dataTable['output_type'] = 'display_data';\n",
              "          await google.colab.output.renderOutput(dataTable, element);\n",
              "          const docLink = document.createElement('div');\n",
              "          docLink.innerHTML = docLinkHtml;\n",
              "          element.appendChild(docLink);\n",
              "        }\n",
              "      </script>\n",
              "    </div>\n",
              "  </div>\n",
              "  "
            ]
          },
          "metadata": {},
          "execution_count": 5
        }
      ],
      "source": [
        "## as 10 ultimas linhas do conjunto de dados\n",
        "dados.tail(10)"
      ]
    },
    {
      "cell_type": "markdown",
      "id": "91dfdb85-2533-4323-bd7e-44562e85630b",
      "metadata": {
        "id": "91dfdb85-2533-4323-bd7e-44562e85630b"
      },
      "source": [
        "📌 Retirarei a coluna `id` por não ter importância alguma no contexto desta análise"
      ]
    },
    {
      "cell_type": "code",
      "execution_count": null,
      "id": "0f4019ef-5600-40c3-a72a-2fb8110c7192",
      "metadata": {
        "id": "0f4019ef-5600-40c3-a72a-2fb8110c7192"
      },
      "outputs": [],
      "source": [
        "dados = dados.drop(columns = ['id'])"
      ]
    },
    {
      "cell_type": "code",
      "execution_count": null,
      "id": "ad759b0e-f703-4788-8f7d-7afc4d5c1caf",
      "metadata": {
        "colab": {
          "base_uri": "https://localhost:8080/",
          "height": 250
        },
        "id": "ad759b0e-f703-4788-8f7d-7afc4d5c1caf",
        "outputId": "f506fec3-0b17-4038-8d71-a72baf8659fc"
      },
      "outputs": [
        {
          "output_type": "execute_result",
          "data": {
            "text/plain": [
              "   gender   age  hypertension  heart_disease ever_married      work_type  \\\n",
              "0    Male  67.0             0              1          Yes        Private   \n",
              "1  Female  61.0             0              0          Yes  Self-employed   \n",
              "2    Male  80.0             0              1          Yes        Private   \n",
              "3  Female  49.0             0              0          Yes        Private   \n",
              "4  Female  79.0             1              0          Yes  Self-employed   \n",
              "\n",
              "  Residence_type  avg_glucose_level   bmi   smoking_status  stroke  \n",
              "0          Urban             228.69  36.6  formerly smoked       1  \n",
              "1          Rural             202.21   NaN     never smoked       1  \n",
              "2          Rural             105.92  32.5     never smoked       1  \n",
              "3          Urban             171.23  34.4           smokes       1  \n",
              "4          Rural             174.12  24.0     never smoked       1  "
            ],
            "text/html": [
              "\n",
              "  <div id=\"df-7c27cd79-1e98-4864-8fa3-dc50c11c7b0d\">\n",
              "    <div class=\"colab-df-container\">\n",
              "      <div>\n",
              "<style scoped>\n",
              "    .dataframe tbody tr th:only-of-type {\n",
              "        vertical-align: middle;\n",
              "    }\n",
              "\n",
              "    .dataframe tbody tr th {\n",
              "        vertical-align: top;\n",
              "    }\n",
              "\n",
              "    .dataframe thead th {\n",
              "        text-align: right;\n",
              "    }\n",
              "</style>\n",
              "<table border=\"1\" class=\"dataframe\">\n",
              "  <thead>\n",
              "    <tr style=\"text-align: right;\">\n",
              "      <th></th>\n",
              "      <th>gender</th>\n",
              "      <th>age</th>\n",
              "      <th>hypertension</th>\n",
              "      <th>heart_disease</th>\n",
              "      <th>ever_married</th>\n",
              "      <th>work_type</th>\n",
              "      <th>Residence_type</th>\n",
              "      <th>avg_glucose_level</th>\n",
              "      <th>bmi</th>\n",
              "      <th>smoking_status</th>\n",
              "      <th>stroke</th>\n",
              "    </tr>\n",
              "  </thead>\n",
              "  <tbody>\n",
              "    <tr>\n",
              "      <th>0</th>\n",
              "      <td>Male</td>\n",
              "      <td>67.0</td>\n",
              "      <td>0</td>\n",
              "      <td>1</td>\n",
              "      <td>Yes</td>\n",
              "      <td>Private</td>\n",
              "      <td>Urban</td>\n",
              "      <td>228.69</td>\n",
              "      <td>36.6</td>\n",
              "      <td>formerly smoked</td>\n",
              "      <td>1</td>\n",
              "    </tr>\n",
              "    <tr>\n",
              "      <th>1</th>\n",
              "      <td>Female</td>\n",
              "      <td>61.0</td>\n",
              "      <td>0</td>\n",
              "      <td>0</td>\n",
              "      <td>Yes</td>\n",
              "      <td>Self-employed</td>\n",
              "      <td>Rural</td>\n",
              "      <td>202.21</td>\n",
              "      <td>NaN</td>\n",
              "      <td>never smoked</td>\n",
              "      <td>1</td>\n",
              "    </tr>\n",
              "    <tr>\n",
              "      <th>2</th>\n",
              "      <td>Male</td>\n",
              "      <td>80.0</td>\n",
              "      <td>0</td>\n",
              "      <td>1</td>\n",
              "      <td>Yes</td>\n",
              "      <td>Private</td>\n",
              "      <td>Rural</td>\n",
              "      <td>105.92</td>\n",
              "      <td>32.5</td>\n",
              "      <td>never smoked</td>\n",
              "      <td>1</td>\n",
              "    </tr>\n",
              "    <tr>\n",
              "      <th>3</th>\n",
              "      <td>Female</td>\n",
              "      <td>49.0</td>\n",
              "      <td>0</td>\n",
              "      <td>0</td>\n",
              "      <td>Yes</td>\n",
              "      <td>Private</td>\n",
              "      <td>Urban</td>\n",
              "      <td>171.23</td>\n",
              "      <td>34.4</td>\n",
              "      <td>smokes</td>\n",
              "      <td>1</td>\n",
              "    </tr>\n",
              "    <tr>\n",
              "      <th>4</th>\n",
              "      <td>Female</td>\n",
              "      <td>79.0</td>\n",
              "      <td>1</td>\n",
              "      <td>0</td>\n",
              "      <td>Yes</td>\n",
              "      <td>Self-employed</td>\n",
              "      <td>Rural</td>\n",
              "      <td>174.12</td>\n",
              "      <td>24.0</td>\n",
              "      <td>never smoked</td>\n",
              "      <td>1</td>\n",
              "    </tr>\n",
              "  </tbody>\n",
              "</table>\n",
              "</div>\n",
              "      <button class=\"colab-df-convert\" onclick=\"convertToInteractive('df-7c27cd79-1e98-4864-8fa3-dc50c11c7b0d')\"\n",
              "              title=\"Convert this dataframe to an interactive table.\"\n",
              "              style=\"display:none;\">\n",
              "        \n",
              "  <svg xmlns=\"http://www.w3.org/2000/svg\" height=\"24px\"viewBox=\"0 0 24 24\"\n",
              "       width=\"24px\">\n",
              "    <path d=\"M0 0h24v24H0V0z\" fill=\"none\"/>\n",
              "    <path d=\"M18.56 5.44l.94 2.06.94-2.06 2.06-.94-2.06-.94-.94-2.06-.94 2.06-2.06.94zm-11 1L8.5 8.5l.94-2.06 2.06-.94-2.06-.94L8.5 2.5l-.94 2.06-2.06.94zm10 10l.94 2.06.94-2.06 2.06-.94-2.06-.94-.94-2.06-.94 2.06-2.06.94z\"/><path d=\"M17.41 7.96l-1.37-1.37c-.4-.4-.92-.59-1.43-.59-.52 0-1.04.2-1.43.59L10.3 9.45l-7.72 7.72c-.78.78-.78 2.05 0 2.83L4 21.41c.39.39.9.59 1.41.59.51 0 1.02-.2 1.41-.59l7.78-7.78 2.81-2.81c.8-.78.8-2.07 0-2.86zM5.41 20L4 18.59l7.72-7.72 1.47 1.35L5.41 20z\"/>\n",
              "  </svg>\n",
              "      </button>\n",
              "      \n",
              "  <style>\n",
              "    .colab-df-container {\n",
              "      display:flex;\n",
              "      flex-wrap:wrap;\n",
              "      gap: 12px;\n",
              "    }\n",
              "\n",
              "    .colab-df-convert {\n",
              "      background-color: #E8F0FE;\n",
              "      border: none;\n",
              "      border-radius: 50%;\n",
              "      cursor: pointer;\n",
              "      display: none;\n",
              "      fill: #1967D2;\n",
              "      height: 32px;\n",
              "      padding: 0 0 0 0;\n",
              "      width: 32px;\n",
              "    }\n",
              "\n",
              "    .colab-df-convert:hover {\n",
              "      background-color: #E2EBFA;\n",
              "      box-shadow: 0px 1px 2px rgba(60, 64, 67, 0.3), 0px 1px 3px 1px rgba(60, 64, 67, 0.15);\n",
              "      fill: #174EA6;\n",
              "    }\n",
              "\n",
              "    [theme=dark] .colab-df-convert {\n",
              "      background-color: #3B4455;\n",
              "      fill: #D2E3FC;\n",
              "    }\n",
              "\n",
              "    [theme=dark] .colab-df-convert:hover {\n",
              "      background-color: #434B5C;\n",
              "      box-shadow: 0px 1px 3px 1px rgba(0, 0, 0, 0.15);\n",
              "      filter: drop-shadow(0px 1px 2px rgba(0, 0, 0, 0.3));\n",
              "      fill: #FFFFFF;\n",
              "    }\n",
              "  </style>\n",
              "\n",
              "      <script>\n",
              "        const buttonEl =\n",
              "          document.querySelector('#df-7c27cd79-1e98-4864-8fa3-dc50c11c7b0d button.colab-df-convert');\n",
              "        buttonEl.style.display =\n",
              "          google.colab.kernel.accessAllowed ? 'block' : 'none';\n",
              "\n",
              "        async function convertToInteractive(key) {\n",
              "          const element = document.querySelector('#df-7c27cd79-1e98-4864-8fa3-dc50c11c7b0d');\n",
              "          const dataTable =\n",
              "            await google.colab.kernel.invokeFunction('convertToInteractive',\n",
              "                                                     [key], {});\n",
              "          if (!dataTable) return;\n",
              "\n",
              "          const docLinkHtml = 'Like what you see? Visit the ' +\n",
              "            '<a target=\"_blank\" href=https://colab.research.google.com/notebooks/data_table.ipynb>data table notebook</a>'\n",
              "            + ' to learn more about interactive tables.';\n",
              "          element.innerHTML = '';\n",
              "          dataTable['output_type'] = 'display_data';\n",
              "          await google.colab.output.renderOutput(dataTable, element);\n",
              "          const docLink = document.createElement('div');\n",
              "          docLink.innerHTML = docLinkHtml;\n",
              "          element.appendChild(docLink);\n",
              "        }\n",
              "      </script>\n",
              "    </div>\n",
              "  </div>\n",
              "  "
            ]
          },
          "metadata": {},
          "execution_count": 7
        }
      ],
      "source": [
        "## verificando se a coluna foi retirada\n",
        "dados.head()"
      ]
    },
    {
      "cell_type": "code",
      "execution_count": null,
      "id": "f26ddc56-3f08-45c8-a771-da911b9da92d",
      "metadata": {
        "colab": {
          "base_uri": "https://localhost:8080/"
        },
        "id": "f26ddc56-3f08-45c8-a771-da911b9da92d",
        "outputId": "d96d600a-6db7-46fb-bc93-9d2198b6635f"
      },
      "outputs": [
        {
          "output_type": "stream",
          "name": "stdout",
          "text": [
            "<class 'pandas.core.frame.DataFrame'>\n",
            "RangeIndex: 5110 entries, 0 to 5109\n",
            "Data columns (total 11 columns):\n",
            " #   Column             Non-Null Count  Dtype  \n",
            "---  ------             --------------  -----  \n",
            " 0   gender             5110 non-null   object \n",
            " 1   age                5110 non-null   float64\n",
            " 2   hypertension       5110 non-null   int64  \n",
            " 3   heart_disease      5110 non-null   int64  \n",
            " 4   ever_married       5110 non-null   object \n",
            " 5   work_type          5110 non-null   object \n",
            " 6   Residence_type     5110 non-null   object \n",
            " 7   avg_glucose_level  5110 non-null   float64\n",
            " 8   bmi                4909 non-null   float64\n",
            " 9   smoking_status     5110 non-null   object \n",
            " 10  stroke             5110 non-null   int64  \n",
            "dtypes: float64(3), int64(3), object(5)\n",
            "memory usage: 439.3+ KB\n"
          ]
        }
      ],
      "source": [
        "## verificando se há dados faltantes em alguma coluna e o tipo das variáveis\n",
        "dados.info()"
      ]
    },
    {
      "cell_type": "markdown",
      "id": "1cd81da8-6cce-411e-812b-a71de768d996",
      "metadata": {
        "id": "1cd81da8-6cce-411e-812b-a71de768d996"
      },
      "source": [
        "📌 Notamos que a variável bmi (IMC) possui 201 dados faltantes (missing). Trataremos disso preenchendo onde existe `missing` com a mediana dessa variável."
      ]
    },
    {
      "cell_type": "code",
      "execution_count": null,
      "id": "0c44aa22-8af4-4b32-bbc2-95a33b11e317",
      "metadata": {
        "id": "0c44aa22-8af4-4b32-bbc2-95a33b11e317"
      },
      "outputs": [],
      "source": [
        "## substituir o missing pela mediana da variável\n",
        "dados['bmi'].fillna(dados['bmi'].median(), inplace  = True)"
      ]
    },
    {
      "cell_type": "code",
      "execution_count": null,
      "id": "2f7d7bf7-ff70-4f75-8aaa-5065afcde67e",
      "metadata": {
        "colab": {
          "base_uri": "https://localhost:8080/"
        },
        "id": "2f7d7bf7-ff70-4f75-8aaa-5065afcde67e",
        "outputId": "072bb581-5f71-4775-eda8-057070985f57"
      },
      "outputs": [
        {
          "output_type": "execute_result",
          "data": {
            "text/plain": [
              "gender               0\n",
              "age                  0\n",
              "hypertension         0\n",
              "heart_disease        0\n",
              "ever_married         0\n",
              "work_type            0\n",
              "Residence_type       0\n",
              "avg_glucose_level    0\n",
              "bmi                  0\n",
              "smoking_status       0\n",
              "stroke               0\n",
              "dtype: int64"
            ]
          },
          "metadata": {},
          "execution_count": 10
        }
      ],
      "source": [
        "## conferindo se a substituição funcionou\n",
        "dados.isnull().sum()"
      ]
    },
    {
      "cell_type": "code",
      "execution_count": null,
      "id": "34d8a42c-6783-4442-ba58-ec7f176de0f9",
      "metadata": {
        "colab": {
          "base_uri": "https://localhost:8080/",
          "height": 300
        },
        "id": "34d8a42c-6783-4442-ba58-ec7f176de0f9",
        "outputId": "53fc5c18-8ef2-4fd9-c0f4-77fb8bbefdb0"
      },
      "outputs": [
        {
          "output_type": "execute_result",
          "data": {
            "text/plain": [
              "               age  hypertension  heart_disease  avg_glucose_level  \\\n",
              "count  5110.000000   5110.000000    5110.000000        5110.000000   \n",
              "mean     43.226614      0.097456       0.054012         106.147677   \n",
              "std      22.612647      0.296607       0.226063          45.283560   \n",
              "min       0.080000      0.000000       0.000000          55.120000   \n",
              "25%      25.000000      0.000000       0.000000          77.245000   \n",
              "50%      45.000000      0.000000       0.000000          91.885000   \n",
              "75%      61.000000      0.000000       0.000000         114.090000   \n",
              "max      82.000000      1.000000       1.000000         271.740000   \n",
              "\n",
              "               bmi       stroke  \n",
              "count  5110.000000  5110.000000  \n",
              "mean     28.862035     0.048728  \n",
              "std       7.699562     0.215320  \n",
              "min      10.300000     0.000000  \n",
              "25%      23.800000     0.000000  \n",
              "50%      28.100000     0.000000  \n",
              "75%      32.800000     0.000000  \n",
              "max      97.600000     1.000000  "
            ],
            "text/html": [
              "\n",
              "  <div id=\"df-a9e46bab-4b2c-45b3-b4c0-2c599ce030d8\">\n",
              "    <div class=\"colab-df-container\">\n",
              "      <div>\n",
              "<style scoped>\n",
              "    .dataframe tbody tr th:only-of-type {\n",
              "        vertical-align: middle;\n",
              "    }\n",
              "\n",
              "    .dataframe tbody tr th {\n",
              "        vertical-align: top;\n",
              "    }\n",
              "\n",
              "    .dataframe thead th {\n",
              "        text-align: right;\n",
              "    }\n",
              "</style>\n",
              "<table border=\"1\" class=\"dataframe\">\n",
              "  <thead>\n",
              "    <tr style=\"text-align: right;\">\n",
              "      <th></th>\n",
              "      <th>age</th>\n",
              "      <th>hypertension</th>\n",
              "      <th>heart_disease</th>\n",
              "      <th>avg_glucose_level</th>\n",
              "      <th>bmi</th>\n",
              "      <th>stroke</th>\n",
              "    </tr>\n",
              "  </thead>\n",
              "  <tbody>\n",
              "    <tr>\n",
              "      <th>count</th>\n",
              "      <td>5110.000000</td>\n",
              "      <td>5110.000000</td>\n",
              "      <td>5110.000000</td>\n",
              "      <td>5110.000000</td>\n",
              "      <td>5110.000000</td>\n",
              "      <td>5110.000000</td>\n",
              "    </tr>\n",
              "    <tr>\n",
              "      <th>mean</th>\n",
              "      <td>43.226614</td>\n",
              "      <td>0.097456</td>\n",
              "      <td>0.054012</td>\n",
              "      <td>106.147677</td>\n",
              "      <td>28.862035</td>\n",
              "      <td>0.048728</td>\n",
              "    </tr>\n",
              "    <tr>\n",
              "      <th>std</th>\n",
              "      <td>22.612647</td>\n",
              "      <td>0.296607</td>\n",
              "      <td>0.226063</td>\n",
              "      <td>45.283560</td>\n",
              "      <td>7.699562</td>\n",
              "      <td>0.215320</td>\n",
              "    </tr>\n",
              "    <tr>\n",
              "      <th>min</th>\n",
              "      <td>0.080000</td>\n",
              "      <td>0.000000</td>\n",
              "      <td>0.000000</td>\n",
              "      <td>55.120000</td>\n",
              "      <td>10.300000</td>\n",
              "      <td>0.000000</td>\n",
              "    </tr>\n",
              "    <tr>\n",
              "      <th>25%</th>\n",
              "      <td>25.000000</td>\n",
              "      <td>0.000000</td>\n",
              "      <td>0.000000</td>\n",
              "      <td>77.245000</td>\n",
              "      <td>23.800000</td>\n",
              "      <td>0.000000</td>\n",
              "    </tr>\n",
              "    <tr>\n",
              "      <th>50%</th>\n",
              "      <td>45.000000</td>\n",
              "      <td>0.000000</td>\n",
              "      <td>0.000000</td>\n",
              "      <td>91.885000</td>\n",
              "      <td>28.100000</td>\n",
              "      <td>0.000000</td>\n",
              "    </tr>\n",
              "    <tr>\n",
              "      <th>75%</th>\n",
              "      <td>61.000000</td>\n",
              "      <td>0.000000</td>\n",
              "      <td>0.000000</td>\n",
              "      <td>114.090000</td>\n",
              "      <td>32.800000</td>\n",
              "      <td>0.000000</td>\n",
              "    </tr>\n",
              "    <tr>\n",
              "      <th>max</th>\n",
              "      <td>82.000000</td>\n",
              "      <td>1.000000</td>\n",
              "      <td>1.000000</td>\n",
              "      <td>271.740000</td>\n",
              "      <td>97.600000</td>\n",
              "      <td>1.000000</td>\n",
              "    </tr>\n",
              "  </tbody>\n",
              "</table>\n",
              "</div>\n",
              "      <button class=\"colab-df-convert\" onclick=\"convertToInteractive('df-a9e46bab-4b2c-45b3-b4c0-2c599ce030d8')\"\n",
              "              title=\"Convert this dataframe to an interactive table.\"\n",
              "              style=\"display:none;\">\n",
              "        \n",
              "  <svg xmlns=\"http://www.w3.org/2000/svg\" height=\"24px\"viewBox=\"0 0 24 24\"\n",
              "       width=\"24px\">\n",
              "    <path d=\"M0 0h24v24H0V0z\" fill=\"none\"/>\n",
              "    <path d=\"M18.56 5.44l.94 2.06.94-2.06 2.06-.94-2.06-.94-.94-2.06-.94 2.06-2.06.94zm-11 1L8.5 8.5l.94-2.06 2.06-.94-2.06-.94L8.5 2.5l-.94 2.06-2.06.94zm10 10l.94 2.06.94-2.06 2.06-.94-2.06-.94-.94-2.06-.94 2.06-2.06.94z\"/><path d=\"M17.41 7.96l-1.37-1.37c-.4-.4-.92-.59-1.43-.59-.52 0-1.04.2-1.43.59L10.3 9.45l-7.72 7.72c-.78.78-.78 2.05 0 2.83L4 21.41c.39.39.9.59 1.41.59.51 0 1.02-.2 1.41-.59l7.78-7.78 2.81-2.81c.8-.78.8-2.07 0-2.86zM5.41 20L4 18.59l7.72-7.72 1.47 1.35L5.41 20z\"/>\n",
              "  </svg>\n",
              "      </button>\n",
              "      \n",
              "  <style>\n",
              "    .colab-df-container {\n",
              "      display:flex;\n",
              "      flex-wrap:wrap;\n",
              "      gap: 12px;\n",
              "    }\n",
              "\n",
              "    .colab-df-convert {\n",
              "      background-color: #E8F0FE;\n",
              "      border: none;\n",
              "      border-radius: 50%;\n",
              "      cursor: pointer;\n",
              "      display: none;\n",
              "      fill: #1967D2;\n",
              "      height: 32px;\n",
              "      padding: 0 0 0 0;\n",
              "      width: 32px;\n",
              "    }\n",
              "\n",
              "    .colab-df-convert:hover {\n",
              "      background-color: #E2EBFA;\n",
              "      box-shadow: 0px 1px 2px rgba(60, 64, 67, 0.3), 0px 1px 3px 1px rgba(60, 64, 67, 0.15);\n",
              "      fill: #174EA6;\n",
              "    }\n",
              "\n",
              "    [theme=dark] .colab-df-convert {\n",
              "      background-color: #3B4455;\n",
              "      fill: #D2E3FC;\n",
              "    }\n",
              "\n",
              "    [theme=dark] .colab-df-convert:hover {\n",
              "      background-color: #434B5C;\n",
              "      box-shadow: 0px 1px 3px 1px rgba(0, 0, 0, 0.15);\n",
              "      filter: drop-shadow(0px 1px 2px rgba(0, 0, 0, 0.3));\n",
              "      fill: #FFFFFF;\n",
              "    }\n",
              "  </style>\n",
              "\n",
              "      <script>\n",
              "        const buttonEl =\n",
              "          document.querySelector('#df-a9e46bab-4b2c-45b3-b4c0-2c599ce030d8 button.colab-df-convert');\n",
              "        buttonEl.style.display =\n",
              "          google.colab.kernel.accessAllowed ? 'block' : 'none';\n",
              "\n",
              "        async function convertToInteractive(key) {\n",
              "          const element = document.querySelector('#df-a9e46bab-4b2c-45b3-b4c0-2c599ce030d8');\n",
              "          const dataTable =\n",
              "            await google.colab.kernel.invokeFunction('convertToInteractive',\n",
              "                                                     [key], {});\n",
              "          if (!dataTable) return;\n",
              "\n",
              "          const docLinkHtml = 'Like what you see? Visit the ' +\n",
              "            '<a target=\"_blank\" href=https://colab.research.google.com/notebooks/data_table.ipynb>data table notebook</a>'\n",
              "            + ' to learn more about interactive tables.';\n",
              "          element.innerHTML = '';\n",
              "          dataTable['output_type'] = 'display_data';\n",
              "          await google.colab.output.renderOutput(dataTable, element);\n",
              "          const docLink = document.createElement('div');\n",
              "          docLink.innerHTML = docLinkHtml;\n",
              "          element.appendChild(docLink);\n",
              "        }\n",
              "      </script>\n",
              "    </div>\n",
              "  </div>\n",
              "  "
            ]
          },
          "metadata": {},
          "execution_count": 11
        }
      ],
      "source": [
        "## verificando algumas estatísticas dos dados quantitavos do conjunto de dados\n",
        "dados.describe()"
      ]
    },
    {
      "cell_type": "markdown",
      "id": "a90998b5-4a55-4be2-b656-62e56e158edb",
      "metadata": {
        "id": "a90998b5-4a55-4be2-b656-62e56e158edb"
      },
      "source": [
        "### Vamos começar a análisar variável por variável"
      ]
    },
    {
      "cell_type": "code",
      "execution_count": null,
      "id": "cbf241d2-0ba2-4cb5-b284-b443b82de66a",
      "metadata": {
        "colab": {
          "base_uri": "https://localhost:8080/"
        },
        "id": "cbf241d2-0ba2-4cb5-b284-b443b82de66a",
        "outputId": "d8c8ccf4-a20d-4504-ad37-8d139990c5bc"
      },
      "outputs": [
        {
          "output_type": "execute_result",
          "data": {
            "text/plain": [
              "(array(['Female', 'Male', 'Other'], dtype=object), array([2994, 2115,    1]))"
            ]
          },
          "metadata": {},
          "execution_count": 12
        }
      ],
      "source": [
        "## como essa é uma variável nominal, verificaremos as classes e quantos indivíduos estão em cada classe\n",
        "np.unique(dados['gender'], return_counts = True)"
      ]
    },
    {
      "cell_type": "markdown",
      "id": "4c481039-7509-4c10-9d0c-a33f38ead45f",
      "metadata": {
        "id": "4c481039-7509-4c10-9d0c-a33f38ead45f"
      },
      "source": [
        "📌 Vamos analisar graficamente"
      ]
    },
    {
      "cell_type": "code",
      "execution_count": null,
      "id": "bfed22d5-145b-4236-83e9-d16b2cf8f7f2",
      "metadata": {
        "colab": {
          "base_uri": "https://localhost:8080/"
        },
        "id": "bfed22d5-145b-4236-83e9-d16b2cf8f7f2",
        "outputId": "d2cfe9c4-263d-446d-c8de-fc6e199e9f25"
      },
      "outputs": [
        {
          "output_type": "execute_result",
          "data": {
            "text/plain": [
              "<matplotlib.axes._subplots.AxesSubplot at 0x7fe5f2188790>"
            ]
          },
          "metadata": {},
          "execution_count": 13
        },
        {
          "output_type": "display_data",
          "data": {
            "text/plain": [
              "<Figure size 432x288 with 1 Axes>"
            ],
            "image/png": "[encoded data removed]"
          },
          "metadata": {
            "needs_background": "light"
          }
        }
      ],
      "source": [
        "sns.countplot(x = dados['gender'])"
      ]
    },
    {
      "cell_type": "markdown",
      "id": "6a31f12d-d44c-486d-97f0-069f1b742375",
      "metadata": {
        "id": "6a31f12d-d44c-486d-97f0-069f1b742375"
      },
      "source": [
        "📌 Análisando esta variável, podemos observar que apenas uma pessoa se identificou com o genero `other` e que a maioria dos entrevistados são do sexo feminino"
      ]
    },
    {
      "cell_type": "code",
      "execution_count": null,
      "id": "626346de-36a9-430b-932c-8932c0c27cbe",
      "metadata": {
        "colab": {
          "base_uri": "https://localhost:8080/"
        },
        "id": "626346de-36a9-430b-932c-8932c0c27cbe",
        "outputId": "91d7e445-bf4b-4b4f-a010-2a4ef21b2e5a"
      },
      "outputs": [
        {
          "output_type": "display_data",
          "data": {
            "text/plain": [
              "<Figure size 432x288 with 1 Axes>"
            ],
            "image/png": "[encoded data removed]"
          },
          "metadata": {
            "needs_background": "light"
          }
        }
      ],
      "source": [
        "## histograma da coluna age\n",
        "plt.hist(x = dados['age'])\n",
        "plt.show()"
      ]
    },
    {
      "cell_type": "markdown",
      "id": "0b35c5eb-0f19-4295-b173-b222724e72f4",
      "metadata": {
        "id": "0b35c5eb-0f19-4295-b173-b222724e72f4"
      },
      "source": [
        "📌 Aqui podemos observar que a maioria dos entrevistados tem entre 30 e 60 anos de idade"
      ]
    },
    {
      "cell_type": "code",
      "execution_count": null,
      "id": "1120bbc5-69d5-47ed-91b1-9345d699b329",
      "metadata": {
        "colab": {
          "base_uri": "https://localhost:8080/"
        },
        "id": "1120bbc5-69d5-47ed-91b1-9345d699b329",
        "outputId": "6444fab0-85b5-4bc0-90f0-e2c03f512e30"
      },
      "outputs": [
        {
          "output_type": "execute_result",
          "data": {
            "text/plain": [
              "(array([0, 1]), array([4612,  498]))"
            ]
          },
          "metadata": {},
          "execution_count": 15
        }
      ],
      "source": [
        "## verificando a coluna hypertension\n",
        "np.unique(dados['hypertension'], return_counts = True)"
      ]
    },
    {
      "cell_type": "markdown",
      "id": "1b8f2ea5-20b0-4e20-8811-eaaf563d3213",
      "metadata": {
        "id": "1b8f2ea5-20b0-4e20-8811-eaaf563d3213"
      },
      "source": [
        "📌 Aqui temos que prestar atenção, porque essa variável é dicotômica, em que `0` significa `não` e `1` significa `sim`.\n",
        "Agora vamos analisar graficamente"
      ]
    },
    {
      "cell_type": "code",
      "execution_count": null,
      "id": "96b6b183-6031-48fa-ad16-b458b95e00d4",
      "metadata": {
        "colab": {
          "base_uri": "https://localhost:8080/"
        },
        "id": "96b6b183-6031-48fa-ad16-b458b95e00d4",
        "outputId": "cf33ea8f-453e-4d7c-87f6-986584513f59"
      },
      "outputs": [
        {
          "output_type": "execute_result",
          "data": {
            "text/plain": [
              "<matplotlib.axes._subplots.AxesSubplot at 0x7fe5f1b93e50>"
            ]
          },
          "metadata": {},
          "execution_count": 16
        },
        {
          "output_type": "display_data",
          "data": {
            "text/plain": [
              "<Figure size 432x288 with 1 Axes>"
            ],
            "image/png": "[encoded data removed]"
          },
          "metadata": {
            "needs_background": "light"
          }
        }
      ],
      "source": [
        "sns.countplot(x = dados['hypertension'])"
      ]
    },
    {
      "cell_type": "markdown",
      "id": "856e48ed-0357-40af-b358-52e801e1b378",
      "metadata": {
        "id": "856e48ed-0357-40af-b358-52e801e1b378"
      },
      "source": [
        "📌 Aqui podemos observar que a maioria dos entrevistados não tem hipertensão"
      ]
    },
    {
      "cell_type": "code",
      "execution_count": null,
      "id": "02cbf46c-da5d-4030-a59b-5548542cc582",
      "metadata": {
        "colab": {
          "base_uri": "https://localhost:8080/"
        },
        "id": "02cbf46c-da5d-4030-a59b-5548542cc582",
        "outputId": "670bd7ad-ba9d-4aaf-cf22-6e849f755e36"
      },
      "outputs": [
        {
          "output_type": "execute_result",
          "data": {
            "text/plain": [
              "(array([0, 1]), array([4834,  276]))"
            ]
          },
          "metadata": {},
          "execution_count": 17
        }
      ],
      "source": [
        "## verificando a coluna heart_disease\n",
        "np.unique(dados['heart_disease'], return_counts = True)"
      ]
    },
    {
      "cell_type": "code",
      "execution_count": null,
      "id": "a03b5df1-02b5-4f1e-8bb6-bda4918410ef",
      "metadata": {
        "colab": {
          "base_uri": "https://localhost:8080/"
        },
        "id": "a03b5df1-02b5-4f1e-8bb6-bda4918410ef",
        "outputId": "c4a9cdf0-2a92-45cd-8b2a-fb126272dcea"
      },
      "outputs": [
        {
          "output_type": "execute_result",
          "data": {
            "text/plain": [
              "<matplotlib.axes._subplots.AxesSubplot at 0x7fe5f1b74590>"
            ]
          },
          "metadata": {},
          "execution_count": 18
        },
        {
          "output_type": "display_data",
          "data": {
            "text/plain": [
              "<Figure size 432x288 with 1 Axes>"
            ],
            "image/png": "[encoded data removed]"
          },
          "metadata": {
            "needs_background": "light"
          }
        }
      ],
      "source": [
        "sns.countplot(x = dados['heart_disease'])"
      ]
    },
    {
      "cell_type": "markdown",
      "id": "72d0fb26-cb7d-4414-b7fb-874ec9f1c26d",
      "metadata": {
        "id": "72d0fb26-cb7d-4414-b7fb-874ec9f1c26d"
      },
      "source": [
        "📌 Podemos notar que esta variável se comporta de forma similar a anterior. Isso significa que a maioria dos entrevistados também não tem problema no coração"
      ]
    },
    {
      "cell_type": "code",
      "execution_count": null,
      "id": "230e0308-e144-498f-9676-be465be64048",
      "metadata": {
        "colab": {
          "base_uri": "https://localhost:8080/"
        },
        "id": "230e0308-e144-498f-9676-be465be64048",
        "outputId": "74de1d4f-927b-4488-ee6b-886e044cdc43"
      },
      "outputs": [
        {
          "output_type": "execute_result",
          "data": {
            "text/plain": [
              "(array(['No', 'Yes'], dtype=object), array([1757, 3353]))"
            ]
          },
          "metadata": {},
          "execution_count": 19
        }
      ],
      "source": [
        "## verificando a coluna ever_married\n",
        "np.unique(dados['ever_married'], return_counts = True)"
      ]
    },
    {
      "cell_type": "code",
      "execution_count": null,
      "id": "7dfec4b8-bd46-4e6c-9643-f78f3ac90c78",
      "metadata": {
        "colab": {
          "base_uri": "https://localhost:8080/"
        },
        "id": "7dfec4b8-bd46-4e6c-9643-f78f3ac90c78",
        "outputId": "47e90753-e80d-42db-ee4f-6d6f489797dd"
      },
      "outputs": [
        {
          "output_type": "execute_result",
          "data": {
            "text/plain": [
              "<matplotlib.axes._subplots.AxesSubplot at 0x7fe5f1b3ae10>"
            ]
          },
          "metadata": {},
          "execution_count": 20
        },
        {
          "output_type": "display_data",
          "data": {
            "text/plain": [
              "<Figure size 432x288 with 1 Axes>"
            ],
            "image/png": "[encoded data removed]"
          },
          "metadata": {
            "needs_background": "light"
          }
        }
      ],
      "source": [
        "sns.countplot(x = dados['ever_married'])"
      ]
    },
    {
      "cell_type": "markdown",
      "id": "0a5bfc89-561b-41d3-80a0-d58e4388bbd2",
      "metadata": {
        "id": "0a5bfc89-561b-41d3-80a0-d58e4388bbd2"
      },
      "source": [
        "📌 Neste caso, a variável também é dicotômica, mas não foi classificada como `0` ou `1`, mas podemos observar que a maioria dos entrevistados já se casou pelo menos uma vez na vida"
      ]
    },
    {
      "cell_type": "code",
      "execution_count": null,
      "id": "9e68b49c-f24a-4797-ae80-f52d40d49255",
      "metadata": {
        "colab": {
          "base_uri": "https://localhost:8080/"
        },
        "id": "9e68b49c-f24a-4797-ae80-f52d40d49255",
        "outputId": "33d25d85-6dde-4784-ed53-4b36c684f878"
      },
      "outputs": [
        {
          "output_type": "execute_result",
          "data": {
            "text/plain": [
              "(array(['Govt_job', 'Never_worked', 'Private', 'Self-employed', 'children'],\n",
              "       dtype=object), array([ 657,   22, 2925,  819,  687]))"
            ]
          },
          "metadata": {},
          "execution_count": 21
        }
      ],
      "source": [
        "## verificando a coluna work_type\n",
        "np.unique(dados['work_type'], return_counts = True)"
      ]
    },
    {
      "cell_type": "code",
      "execution_count": null,
      "id": "430cc762-4b5d-46b3-86a3-12c2430b95e0",
      "metadata": {
        "colab": {
          "base_uri": "https://localhost:8080/"
        },
        "id": "430cc762-4b5d-46b3-86a3-12c2430b95e0",
        "outputId": "f60ae219-84c8-4fe1-ee44-2316700f50ca"
      },
      "outputs": [
        {
          "output_type": "execute_result",
          "data": {
            "text/plain": [
              "<matplotlib.axes._subplots.AxesSubplot at 0x7fe5f1ab4090>"
            ]
          },
          "metadata": {},
          "execution_count": 22
        },
        {
          "output_type": "display_data",
          "data": {
            "text/plain": [
              "<Figure size 432x288 with 1 Axes>"
            ],
            "image/png": "[encoded data removed]"
          },
          "metadata": {
            "needs_background": "light"
          }
        }
      ],
      "source": [
        "sns.countplot(x = dados['work_type'])"
      ]
    },
    {
      "cell_type": "markdown",
      "id": "e4ec70df-d253-441d-83d7-a83e5c2c2059",
      "metadata": {
        "id": "e4ec70df-d253-441d-83d7-a83e5c2c2059"
      },
      "source": [
        "📌 Mais um vez estamos trabalhando com uma variável nominal. Dessa variável podemos observar que: \n",
        "- a maioria dos entrevistados trabalham para empresas privadas;\n",
        "- autônomos, empregados do estado e crianças possuem praticamente a mesma quantidade de pessoas nesse estudo;\n",
        "- pouquíssimos entrevistados nunca trabalharam mesmo sem ser considerados mais como crianças."
      ]
    },
    {
      "cell_type": "code",
      "execution_count": null,
      "id": "3ff5a24d-3ac2-46b8-b54c-a3ce3b9f97fd",
      "metadata": {
        "colab": {
          "base_uri": "https://localhost:8080/"
        },
        "id": "3ff5a24d-3ac2-46b8-b54c-a3ce3b9f97fd",
        "outputId": "dc38aa95-3996-40a2-d11a-3cdaecfd9060"
      },
      "outputs": [
        {
          "output_type": "execute_result",
          "data": {
            "text/plain": [
              "(array(['Rural', 'Urban'], dtype=object), array([2514, 2596]))"
            ]
          },
          "metadata": {},
          "execution_count": 23
        }
      ],
      "source": [
        "## verificando a coluna Residence_type\n",
        "np.unique(dados['Residence_type'], return_counts = True)"
      ]
    },
    {
      "cell_type": "code",
      "execution_count": null,
      "id": "025a18cb-82a4-4e71-a67b-9d5ed559ad3e",
      "metadata": {
        "colab": {
          "base_uri": "https://localhost:8080/"
        },
        "id": "025a18cb-82a4-4e71-a67b-9d5ed559ad3e",
        "outputId": "9b85b3eb-0831-4c8c-c04c-3e3a8ee989fa"
      },
      "outputs": [
        {
          "output_type": "execute_result",
          "data": {
            "text/plain": [
              "<matplotlib.axes._subplots.AxesSubplot at 0x7fe5f1a22f50>"
            ]
          },
          "metadata": {},
          "execution_count": 24
        },
        {
          "output_type": "display_data",
          "data": {
            "text/plain": [
              "<Figure size 432x288 with 1 Axes>"
            ],
            "image/png": "[encoded data removed]"
          },
          "metadata": {
            "needs_background": "light"
          }
        }
      ],
      "source": [
        "sns.countplot(x = dados['Residence_type'])"
      ]
    },
    {
      "cell_type": "markdown",
      "id": "9da54ef1-a42a-4f31-81b3-88d785fdb616",
      "metadata": {
        "id": "9da54ef1-a42a-4f31-81b3-88d785fdb616"
      },
      "source": [
        "📌 Aqui podemos ver que os dois tipos de moradia possuem quase o mesmo número de entrevistados nesse estudo"
      ]
    },
    {
      "cell_type": "code",
      "execution_count": null,
      "id": "3468f64c-3199-4f36-95ce-e18bf90e757d",
      "metadata": {
        "colab": {
          "base_uri": "https://localhost:8080/"
        },
        "id": "3468f64c-3199-4f36-95ce-e18bf90e757d",
        "outputId": "5da2ea04-31c6-44e3-9d4a-1502d7802516"
      },
      "outputs": [
        {
          "output_type": "display_data",
          "data": {
            "text/plain": [
              "<Figure size 432x288 with 1 Axes>"
            ],
            "image/png": "[encoded data removed]"
          },
          "metadata": {
            "needs_background": "light"
          }
        }
      ],
      "source": [
        "## histograma da coluna avg_glucose_level\n",
        "plt.hist(x = dados['avg_glucose_level'])\n",
        "plt.show()"
      ]
    },
    {
      "cell_type": "code",
      "execution_count": null,
      "id": "897f6889-7e7f-442a-bf2e-43e12a9045fb",
      "metadata": {
        "colab": {
          "base_uri": "https://localhost:8080/"
        },
        "id": "897f6889-7e7f-442a-bf2e-43e12a9045fb",
        "outputId": "a08a9372-7550-42f2-c012-2935baa0b0c1"
      },
      "outputs": [
        {
          "output_type": "execute_result",
          "data": {
            "text/plain": [
              "<matplotlib.axes._subplots.AxesSubplot at 0x7fe5f198aa50>"
            ]
          },
          "metadata": {},
          "execution_count": 26
        },
        {
          "output_type": "display_data",
          "data": {
            "text/plain": [
              "<Figure size 432x288 with 1 Axes>"
            ],
            "image/png": "[encoded data removed]"
          },
          "metadata": {
            "needs_background": "light"
          }
        }
      ],
      "source": [
        "## boxplot da coluna avg_glucose_level\n",
        "sns.boxplot(x = 'avg_glucose_level', data = dados)"
      ]
    },
    {
      "cell_type": "code",
      "execution_count": null,
      "id": "79d9d779-4d57-4f76-9fef-3c2cfc0f9e58",
      "metadata": {
        "colab": {
          "base_uri": "https://localhost:8080/"
        },
        "id": "79d9d779-4d57-4f76-9fef-3c2cfc0f9e58",
        "outputId": "42215326-be03-4339-bd83-8afd3a009ae6"
      },
      "outputs": [
        {
          "output_type": "execute_result",
          "data": {
            "text/plain": [
              "count    5110.000000\n",
              "mean      106.147677\n",
              "std        45.283560\n",
              "min        55.120000\n",
              "25%        77.245000\n",
              "50%        91.885000\n",
              "75%       114.090000\n",
              "max       271.740000\n",
              "Name: avg_glucose_level, dtype: float64"
            ]
          },
          "metadata": {},
          "execution_count": 27
        }
      ],
      "source": [
        "dados['avg_glucose_level'].describe()"
      ]
    },
    {
      "cell_type": "markdown",
      "id": "84a44dc4-64dd-4f59-874e-7ae32ca88c70",
      "metadata": {
        "id": "84a44dc4-64dd-4f59-874e-7ae32ca88c70"
      },
      "source": [
        "📌 Análisaremos esse histograma juntamente com o boxplot e o describe:\n",
        "- podemos observar que apenas 25% dos entrevistados possuem o nível médio da glicose acima de 114"
      ]
    },
    {
      "cell_type": "code",
      "execution_count": null,
      "id": "68989ba1-0158-4e5f-91b6-a7a8af174209",
      "metadata": {
        "colab": {
          "base_uri": "https://localhost:8080/"
        },
        "id": "68989ba1-0158-4e5f-91b6-a7a8af174209",
        "outputId": "53a09bb7-70e7-4451-ab19-8b1765b43ac0"
      },
      "outputs": [
        {
          "output_type": "display_data",
          "data": {
            "text/plain": [
              "<Figure size 432x288 with 1 Axes>"
            ],
            "image/png": "[encoded data removed]"
          },
          "metadata": {
            "needs_background": "light"
          }
        }
      ],
      "source": [
        "## histograma da coluna bmi\n",
        "plt.hist(x = dados['bmi'])\n",
        "plt.show()"
      ]
    },
    {
      "cell_type": "code",
      "execution_count": null,
      "id": "652e76a5-98e3-4e53-a4a2-2410f869ac87",
      "metadata": {
        "colab": {
          "base_uri": "https://localhost:8080/"
        },
        "id": "652e76a5-98e3-4e53-a4a2-2410f869ac87",
        "outputId": "1deb64b5-9726-43c8-c116-0549e6818442"
      },
      "outputs": [
        {
          "output_type": "execute_result",
          "data": {
            "text/plain": [
              "<matplotlib.axes._subplots.AxesSubplot at 0x7fe5f1854b50>"
            ]
          },
          "metadata": {},
          "execution_count": 29
        },
        {
          "output_type": "display_data",
          "data": {
            "text/plain": [
              "<Figure size 432x288 with 1 Axes>"
            ],
            "image/png": "[encoded data removed]"
          },
          "metadata": {
            "needs_background": "light"
          }
        }
      ],
      "source": [
        "## boxplot da coluna bmi\n",
        "sns.boxplot(x = 'bmi', data = dados)"
      ]
    },
    {
      "cell_type": "code",
      "execution_count": null,
      "id": "798f72f5-808e-4556-beb3-291ff4d54d7e",
      "metadata": {
        "colab": {
          "base_uri": "https://localhost:8080/"
        },
        "id": "798f72f5-808e-4556-beb3-291ff4d54d7e",
        "outputId": "163a0a0d-e995-4fea-8f6f-6e60b55d76b5"
      },
      "outputs": [
        {
          "output_type": "execute_result",
          "data": {
            "text/plain": [
              "count    5110.000000\n",
              "mean       28.862035\n",
              "std         7.699562\n",
              "min        10.300000\n",
              "25%        23.800000\n",
              "50%        28.100000\n",
              "75%        32.800000\n",
              "max        97.600000\n",
              "Name: bmi, dtype: float64"
            ]
          },
          "metadata": {},
          "execution_count": 30
        }
      ],
      "source": [
        "dados['bmi'].describe()"
      ]
    },
    {
      "cell_type": "markdown",
      "id": "7359f224-c92e-4757-a25b-e990c9b0d5ad",
      "metadata": {
        "id": "7359f224-c92e-4757-a25b-e990c9b0d5ad"
      },
      "source": [
        "📌 Aqui podemos observar que a média do IMC dos entrevistados é aproximadamente 28.86 e que apenas 25% dos entrevistados tem o IMC abaixo de 23.8"
      ]
    },
    {
      "cell_type": "code",
      "execution_count": null,
      "id": "ea2a8b42-e857-4d1e-bcb7-79efe080ae35",
      "metadata": {
        "colab": {
          "base_uri": "https://localhost:8080/"
        },
        "id": "ea2a8b42-e857-4d1e-bcb7-79efe080ae35",
        "outputId": "def95fd6-d373-4d8e-9af3-498af9dcbd17"
      },
      "outputs": [
        {
          "output_type": "execute_result",
          "data": {
            "text/plain": [
              "(array(['Unknown', 'formerly smoked', 'never smoked', 'smokes'],\n",
              "       dtype=object), array([1544,  885, 1892,  789]))"
            ]
          },
          "metadata": {},
          "execution_count": 31
        }
      ],
      "source": [
        "## verificando a coluna smoking_status\n",
        "np.unique(dados['smoking_status'], return_counts = True)"
      ]
    },
    {
      "cell_type": "code",
      "execution_count": null,
      "id": "c5160173-5d35-45cf-8efa-8299ae64af49",
      "metadata": {
        "colab": {
          "base_uri": "https://localhost:8080/"
        },
        "id": "c5160173-5d35-45cf-8efa-8299ae64af49",
        "outputId": "e3199af2-2faf-411e-c44c-049049e6f76f"
      },
      "outputs": [
        {
          "output_type": "execute_result",
          "data": {
            "text/plain": [
              "<matplotlib.axes._subplots.AxesSubplot at 0x7fe5f1843150>"
            ]
          },
          "metadata": {},
          "execution_count": 32
        },
        {
          "output_type": "display_data",
          "data": {
            "text/plain": [
              "<Figure size 432x288 with 1 Axes>"
            ],
            "image/png": "[encoded data removed]"
          },
          "metadata": {
            "needs_background": "light"
          }
        }
      ],
      "source": [
        "sns.countplot(x = dados['smoking_status'])"
      ]
    },
    {
      "cell_type": "markdown",
      "id": "b9de63c9-7f7a-486c-a3f1-81859eb199a3",
      "metadata": {
        "id": "b9de63c9-7f7a-486c-a3f1-81859eb199a3"
      },
      "source": [
        "📌 Podemos observar que a maioria dos entrevistados nunca fumou, mas que existem muitos classificados como `unknown`, ou seja, que não foi possível obter essa resposta."
      ]
    },
    {
      "cell_type": "code",
      "execution_count": null,
      "id": "ebbce694-7d7a-4556-84d6-4f653ec9eaff",
      "metadata": {
        "colab": {
          "base_uri": "https://localhost:8080/"
        },
        "id": "ebbce694-7d7a-4556-84d6-4f653ec9eaff",
        "outputId": "f7833860-7be1-4a64-a273-fee9e7b6937b"
      },
      "outputs": [
        {
          "output_type": "execute_result",
          "data": {
            "text/plain": [
              "(array([0, 1]), array([4861,  249]))"
            ]
          },
          "metadata": {},
          "execution_count": 33
        }
      ],
      "source": [
        "## verificando a coluna stoke\n",
        "np.unique(dados['stroke'], return_counts = True)"
      ]
    },
    {
      "cell_type": "code",
      "execution_count": null,
      "id": "06414260-4c44-4864-84e3-76eb91690240",
      "metadata": {
        "colab": {
          "base_uri": "https://localhost:8080/"
        },
        "id": "06414260-4c44-4864-84e3-76eb91690240",
        "outputId": "028d8c45-fab6-4016-c1b0-cd05ecd956ba"
      },
      "outputs": [
        {
          "output_type": "execute_result",
          "data": {
            "text/plain": [
              "<matplotlib.axes._subplots.AxesSubplot at 0x7fe5f17ca050>"
            ]
          },
          "metadata": {},
          "execution_count": 34
        },
        {
          "output_type": "display_data",
          "data": {
            "text/plain": [
              "<Figure size 432x288 with 1 Axes>"
            ],
            "image/png": "[encoded data removed]"
          },
          "metadata": {
            "needs_background": "light"
          }
        }
      ],
      "source": [
        "sns.countplot(x = dados['stroke'])"
      ]
    },
    {
      "cell_type": "markdown",
      "id": "681d7d82-2c1c-45a5-8d8d-7f985d328223",
      "metadata": {
        "id": "681d7d82-2c1c-45a5-8d8d-7f985d328223"
      },
      "source": [
        "📌 Aqui podemos ver claramente que a maioria dos entrevistados não tiveram derrame."
      ]
    },
    {
      "cell_type": "markdown",
      "id": "4eb42409-2df3-41b2-972d-2d2b2d3e1027",
      "metadata": {
        "id": "4eb42409-2df3-41b2-972d-2d2b2d3e1027"
      },
      "source": [
        "## Análise de correlação\n",
        "- Primeiramente teremos que realizar a padronização dos dados numéricos das variáveis `age`, `avg_glucose_level` e `bmi` com StardardScaler\n",
        "- Para podermos fazer uma análise de correlação no Python precisaremos que as variáveis sejam todas numéricas, para isso nós utilizaremos o LabelEnconder.\n",
        "- Para trabalharmos com o LabelEncoder precisaremos transformar o nosso conjunto de dados, que atualmente é um data frame, em uma matriz (array).\n",
        "- Logo após precisaremos retornar para data frame para darmos seguimento a analise de correlação."
      ]
    },
    {
      "cell_type": "code",
      "source": [
        "# Padronizando as variáveis citadas com StandardScaler\n",
        "cols = ['age', 'avg_glucose_level', 'bmi']\n",
        "scaler = StandardScaler()\n",
        "dados[cols] = scaler.fit_transform(dados[cols])"
      ],
      "metadata": {
        "id": "iIJ2gMDPBPnW"
      },
      "id": "iIJ2gMDPBPnW",
      "execution_count": null,
      "outputs": []
    },
    {
      "cell_type": "code",
      "execution_count": null,
      "id": "a1139cef-8770-42ed-98a3-d2ce3c871bcc",
      "metadata": {
        "id": "a1139cef-8770-42ed-98a3-d2ce3c871bcc"
      },
      "outputs": [],
      "source": [
        "## transformando o DataFrame em array\n",
        "dados = dados.values"
      ]
    },
    {
      "cell_type": "code",
      "execution_count": null,
      "id": "734df15b-b3ca-49ec-b923-42897ddae532",
      "metadata": {
        "colab": {
          "base_uri": "https://localhost:8080/"
        },
        "id": "734df15b-b3ca-49ec-b923-42897ddae532",
        "outputId": "4c32dc3c-97dc-4351-afa4-3458fc95c537"
      },
      "outputs": [
        {
          "output_type": "execute_result",
          "data": {
            "text/plain": [
              "array([['Male', 1.0514342842814732, 0, ..., 1.0050859652921758,\n",
              "        'formerly smoked', 1],\n",
              "       ['Female', 0.7860700726610688, 0, ..., -0.0989809248336594,\n",
              "        'never smoked', 1],\n",
              "       ['Male', 1.6263900761256826, 0, ..., 0.4725360535844198,\n",
              "        'never smoked', 1],\n",
              "       ...,\n",
              "       ['Female', -0.36384151102735024, 0, ..., 0.2257446310857039,\n",
              "        'never smoked', 0],\n",
              "       ['Male', 0.34379638662706147, 0, ..., -0.4237064807530227,\n",
              "        'formerly smoked', 0],\n",
              "       ['Female', 0.034204806403256335, 0, ..., -0.3457723473323758,\n",
              "        'Unknown', 0]], dtype=object)"
            ]
          },
          "metadata": {},
          "execution_count": 40
        }
      ],
      "source": [
        "dados"
      ]
    },
    {
      "cell_type": "code",
      "execution_count": null,
      "id": "838a2287-a362-437a-847a-516bcbb0abfa",
      "metadata": {
        "id": "838a2287-a362-437a-847a-516bcbb0abfa"
      },
      "outputs": [],
      "source": [
        "from sklearn.preprocessing import LabelEncoder\n",
        "\n",
        "label_encoder_gender = LabelEncoder()\n",
        "label_encoder_ever_married = LabelEncoder()\n",
        "label_encoder_work_type = LabelEncoder()\n",
        "label_encoder_Residence_type = LabelEncoder()\n",
        "label_encoder_smoking_status = LabelEncoder()"
      ]
    },
    {
      "cell_type": "code",
      "execution_count": null,
      "id": "3720397d-7e1f-46a1-994b-af1f226d5703",
      "metadata": {
        "id": "3720397d-7e1f-46a1-994b-af1f226d5703"
      },
      "outputs": [],
      "source": [
        "dados[:, 0] = label_encoder_gender.fit_transform(dados[:, 0])\n",
        "dados[:, 4] = label_encoder_ever_married.fit_transform(dados[:, 4])\n",
        "dados[:, 5] = label_encoder_work_type.fit_transform(dados[:, 5])\n",
        "dados[:, 6] = label_encoder_Residence_type.fit_transform(dados[:, 6])\n",
        "dados[:, 9] = label_encoder_smoking_status.fit_transform(dados[:, 9])"
      ]
    },
    {
      "cell_type": "code",
      "execution_count": null,
      "id": "85bebecf-0e5c-4628-bdaf-5114fb3abb4a",
      "metadata": {
        "id": "85bebecf-0e5c-4628-bdaf-5114fb3abb4a"
      },
      "outputs": [],
      "source": [
        "## Transformando o array em DataFrame\n",
        "dados = pd.DataFrame(dados, columns = ['gender', 'age',\t'hypertension',\t'heart_disease', 'ever_married', 'work_type', 'Residence_type',\t'avg_glucose_level', 'bmi',\t'smoking_status', 'stroke'])"
      ]
    },
    {
      "cell_type": "code",
      "execution_count": null,
      "id": "47bdda9f-6aaa-4fd2-86cc-fadb5b98238c",
      "metadata": {
        "colab": {
          "base_uri": "https://localhost:8080/",
          "height": 488
        },
        "id": "47bdda9f-6aaa-4fd2-86cc-fadb5b98238c",
        "outputId": "782de249-775a-4816-f20d-01dc10a154d8"
      },
      "outputs": [
        {
          "output_type": "execute_result",
          "data": {
            "text/plain": [
              "     gender       age hypertension heart_disease ever_married work_type  \\\n",
              "0         1  1.051434            0             1            1         2   \n",
              "1         0   0.78607            0             0            1         3   \n",
              "2         1   1.62639            0             1            1         2   \n",
              "3         0  0.255342            0             0            1         2   \n",
              "4         0  1.582163            1             0            1         3   \n",
              "...     ...       ...          ...           ...          ...       ...   \n",
              "5105      0   1.62639            1             0            1         2   \n",
              "5106      0  1.670617            0             0            1         3   \n",
              "5107      0 -0.363842            0             0            1         3   \n",
              "5108      1  0.343796            0             0            1         2   \n",
              "5109      0  0.034205            0             0            1         0   \n",
              "\n",
              "     Residence_type avg_glucose_level       bmi smoking_status stroke  \n",
              "0                 1          2.706375  1.005086              1      1  \n",
              "1                 0          2.121559 -0.098981              2      1  \n",
              "2                 0         -0.005028  0.472536              2      1  \n",
              "3                 1          1.437358  0.719327              3      1  \n",
              "4                 0          1.501184 -0.631531              2      1  \n",
              "...             ...               ...       ...            ...    ...  \n",
              "5105              1         -0.494658 -0.098981              2      0  \n",
              "5106              1          0.420775  1.446713              2      0  \n",
              "5107              0         -0.511443  0.225745              2      0  \n",
              "5108              0          1.328257 -0.423706              1      0  \n",
              "5109              1         -0.460867 -0.345772              0      0  \n",
              "\n",
              "[5110 rows x 11 columns]"
            ],
            "text/html": [
              "\n",
              "  <div id=\"df-24826289-b396-4d39-aa13-7a9c1a98a436\">\n",
              "    <div class=\"colab-df-container\">\n",
              "      <div>\n",
              "<style scoped>\n",
              "    .dataframe tbody tr th:only-of-type {\n",
              "        vertical-align: middle;\n",
              "    }\n",
              "\n",
              "    .dataframe tbody tr th {\n",
              "        vertical-align: top;\n",
              "    }\n",
              "\n",
              "    .dataframe thead th {\n",
              "        text-align: right;\n",
              "    }\n",
              "</style>\n",
              "<table border=\"1\" class=\"dataframe\">\n",
              "  <thead>\n",
              "    <tr style=\"text-align: right;\">\n",
              "      <th></th>\n",
              "      <th>gender</th>\n",
              "      <th>age</th>\n",
              "      <th>hypertension</th>\n",
              "      <th>heart_disease</th>\n",
              "      <th>ever_married</th>\n",
              "      <th>work_type</th>\n",
              "      <th>Residence_type</th>\n",
              "      <th>avg_glucose_level</th>\n",
              "      <th>bmi</th>\n",
              "      <th>smoking_status</th>\n",
              "      <th>stroke</th>\n",
              "    </tr>\n",
              "  </thead>\n",
              "  <tbody>\n",
              "    <tr>\n",
              "      <th>0</th>\n",
              "      <td>1</td>\n",
              "      <td>1.051434</td>\n",
              "      <td>0</td>\n",
              "      <td>1</td>\n",
              "      <td>1</td>\n",
              "      <td>2</td>\n",
              "      <td>1</td>\n",
              "      <td>2.706375</td>\n",
              "      <td>1.005086</td>\n",
              "      <td>1</td>\n",
              "      <td>1</td>\n",
              "    </tr>\n",
              "    <tr>\n",
              "      <th>1</th>\n",
              "      <td>0</td>\n",
              "      <td>0.78607</td>\n",
              "      <td>0</td>\n",
              "      <td>0</td>\n",
              "      <td>1</td>\n",
              "      <td>3</td>\n",
              "      <td>0</td>\n",
              "      <td>2.121559</td>\n",
              "      <td>-0.098981</td>\n",
              "      <td>2</td>\n",
              "      <td>1</td>\n",
              "    </tr>\n",
              "    <tr>\n",
              "      <th>2</th>\n",
              "      <td>1</td>\n",
              "      <td>1.62639</td>\n",
              "      <td>0</td>\n",
              "      <td>1</td>\n",
              "      <td>1</td>\n",
              "      <td>2</td>\n",
              "      <td>0</td>\n",
              "      <td>-0.005028</td>\n",
              "      <td>0.472536</td>\n",
              "      <td>2</td>\n",
              "      <td>1</td>\n",
              "    </tr>\n",
              "    <tr>\n",
              "      <th>3</th>\n",
              "      <td>0</td>\n",
              "      <td>0.255342</td>\n",
              "      <td>0</td>\n",
              "      <td>0</td>\n",
              "      <td>1</td>\n",
              "      <td>2</td>\n",
              "      <td>1</td>\n",
              "      <td>1.437358</td>\n",
              "      <td>0.719327</td>\n",
              "      <td>3</td>\n",
              "      <td>1</td>\n",
              "    </tr>\n",
              "    <tr>\n",
              "      <th>4</th>\n",
              "      <td>0</td>\n",
              "      <td>1.582163</td>\n",
              "      <td>1</td>\n",
              "      <td>0</td>\n",
              "      <td>1</td>\n",
              "      <td>3</td>\n",
              "      <td>0</td>\n",
              "      <td>1.501184</td>\n",
              "      <td>-0.631531</td>\n",
              "      <td>2</td>\n",
              "      <td>1</td>\n",
              "    </tr>\n",
              "    <tr>\n",
              "      <th>...</th>\n",
              "      <td>...</td>\n",
              "      <td>...</td>\n",
              "      <td>...</td>\n",
              "      <td>...</td>\n",
              "      <td>...</td>\n",
              "      <td>...</td>\n",
              "      <td>...</td>\n",
              "      <td>...</td>\n",
              "      <td>...</td>\n",
              "      <td>...</td>\n",
              "      <td>...</td>\n",
              "    </tr>\n",
              "    <tr>\n",
              "      <th>5105</th>\n",
              "      <td>0</td>\n",
              "      <td>1.62639</td>\n",
              "      <td>1</td>\n",
              "      <td>0</td>\n",
              "      <td>1</td>\n",
              "      <td>2</td>\n",
              "      <td>1</td>\n",
              "      <td>-0.494658</td>\n",
              "      <td>-0.098981</td>\n",
              "      <td>2</td>\n",
              "      <td>0</td>\n",
              "    </tr>\n",
              "    <tr>\n",
              "      <th>5106</th>\n",
              "      <td>0</td>\n",
              "      <td>1.670617</td>\n",
              "      <td>0</td>\n",
              "      <td>0</td>\n",
              "      <td>1</td>\n",
              "      <td>3</td>\n",
              "      <td>1</td>\n",
              "      <td>0.420775</td>\n",
              "      <td>1.446713</td>\n",
              "      <td>2</td>\n",
              "      <td>0</td>\n",
              "    </tr>\n",
              "    <tr>\n",
              "      <th>5107</th>\n",
              "      <td>0</td>\n",
              "      <td>-0.363842</td>\n",
              "      <td>0</td>\n",
              "      <td>0</td>\n",
              "      <td>1</td>\n",
              "      <td>3</td>\n",
              "      <td>0</td>\n",
              "      <td>-0.511443</td>\n",
              "      <td>0.225745</td>\n",
              "      <td>2</td>\n",
              "      <td>0</td>\n",
              "    </tr>\n",
              "    <tr>\n",
              "      <th>5108</th>\n",
              "      <td>1</td>\n",
              "      <td>0.343796</td>\n",
              "      <td>0</td>\n",
              "      <td>0</td>\n",
              "      <td>1</td>\n",
              "      <td>2</td>\n",
              "      <td>0</td>\n",
              "      <td>1.328257</td>\n",
              "      <td>-0.423706</td>\n",
              "      <td>1</td>\n",
              "      <td>0</td>\n",
              "    </tr>\n",
              "    <tr>\n",
              "      <th>5109</th>\n",
              "      <td>0</td>\n",
              "      <td>0.034205</td>\n",
              "      <td>0</td>\n",
              "      <td>0</td>\n",
              "      <td>1</td>\n",
              "      <td>0</td>\n",
              "      <td>1</td>\n",
              "      <td>-0.460867</td>\n",
              "      <td>-0.345772</td>\n",
              "      <td>0</td>\n",
              "      <td>0</td>\n",
              "    </tr>\n",
              "  </tbody>\n",
              "</table>\n",
              "<p>5110 rows × 11 columns</p>\n",
              "</div>\n",
              "      <button class=\"colab-df-convert\" onclick=\"convertToInteractive('df-24826289-b396-4d39-aa13-7a9c1a98a436')\"\n",
              "              title=\"Convert this dataframe to an interactive table.\"\n",
              "              style=\"display:none;\">\n",
              "        \n",
              "  <svg xmlns=\"http://www.w3.org/2000/svg\" height=\"24px\"viewBox=\"0 0 24 24\"\n",
              "       width=\"24px\">\n",
              "    <path d=\"M0 0h24v24H0V0z\" fill=\"none\"/>\n",
              "    <path d=\"M18.56 5.44l.94 2.06.94-2.06 2.06-.94-2.06-.94-.94-2.06-.94 2.06-2.06.94zm-11 1L8.5 8.5l.94-2.06 2.06-.94-2.06-.94L8.5 2.5l-.94 2.06-2.06.94zm10 10l.94 2.06.94-2.06 2.06-.94-2.06-.94-.94-2.06-.94 2.06-2.06.94z\"/><path d=\"M17.41 7.96l-1.37-1.37c-.4-.4-.92-.59-1.43-.59-.52 0-1.04.2-1.43.59L10.3 9.45l-7.72 7.72c-.78.78-.78 2.05 0 2.83L4 21.41c.39.39.9.59 1.41.59.51 0 1.02-.2 1.41-.59l7.78-7.78 2.81-2.81c.8-.78.8-2.07 0-2.86zM5.41 20L4 18.59l7.72-7.72 1.47 1.35L5.41 20z\"/>\n",
              "  </svg>\n",
              "      </button>\n",
              "      \n",
              "  <style>\n",
              "    .colab-df-container {\n",
              "      display:flex;\n",
              "      flex-wrap:wrap;\n",
              "      gap: 12px;\n",
              "    }\n",
              "\n",
              "    .colab-df-convert {\n",
              "      background-color: #E8F0FE;\n",
              "      border: none;\n",
              "      border-radius: 50%;\n",
              "      cursor: pointer;\n",
              "      display: none;\n",
              "      fill: #1967D2;\n",
              "      height: 32px;\n",
              "      padding: 0 0 0 0;\n",
              "      width: 32px;\n",
              "    }\n",
              "\n",
              "    .colab-df-convert:hover {\n",
              "      background-color: #E2EBFA;\n",
              "      box-shadow: 0px 1px 2px rgba(60, 64, 67, 0.3), 0px 1px 3px 1px rgba(60, 64, 67, 0.15);\n",
              "      fill: #174EA6;\n",
              "    }\n",
              "\n",
              "    [theme=dark] .colab-df-convert {\n",
              "      background-color: #3B4455;\n",
              "      fill: #D2E3FC;\n",
              "    }\n",
              "\n",
              "    [theme=dark] .colab-df-convert:hover {\n",
              "      background-color: #434B5C;\n",
              "      box-shadow: 0px 1px 3px 1px rgba(0, 0, 0, 0.15);\n",
              "      filter: drop-shadow(0px 1px 2px rgba(0, 0, 0, 0.3));\n",
              "      fill: #FFFFFF;\n",
              "    }\n",
              "  </style>\n",
              "\n",
              "      <script>\n",
              "        const buttonEl =\n",
              "          document.querySelector('#df-24826289-b396-4d39-aa13-7a9c1a98a436 button.colab-df-convert');\n",
              "        buttonEl.style.display =\n",
              "          google.colab.kernel.accessAllowed ? 'block' : 'none';\n",
              "\n",
              "        async function convertToInteractive(key) {\n",
              "          const element = document.querySelector('#df-24826289-b396-4d39-aa13-7a9c1a98a436');\n",
              "          const dataTable =\n",
              "            await google.colab.kernel.invokeFunction('convertToInteractive',\n",
              "                                                     [key], {});\n",
              "          if (!dataTable) return;\n",
              "\n",
              "          const docLinkHtml = 'Like what you see? Visit the ' +\n",
              "            '<a target=\"_blank\" href=https://colab.research.google.com/notebooks/data_table.ipynb>data table notebook</a>'\n",
              "            + ' to learn more about interactive tables.';\n",
              "          element.innerHTML = '';\n",
              "          dataTable['output_type'] = 'display_data';\n",
              "          await google.colab.output.renderOutput(dataTable, element);\n",
              "          const docLink = document.createElement('div');\n",
              "          docLink.innerHTML = docLinkHtml;\n",
              "          element.appendChild(docLink);\n",
              "        }\n",
              "      </script>\n",
              "    </div>\n",
              "  </div>\n",
              "  "
            ]
          },
          "metadata": {},
          "execution_count": 44
        }
      ],
      "source": [
        "dados"
      ]
    },
    {
      "cell_type": "markdown",
      "id": "ccb06bf1-60f0-4648-90fa-e5f514fadc6a",
      "metadata": {
        "id": "ccb06bf1-60f0-4648-90fa-e5f514fadc6a"
      },
      "source": [
        "📌 Agora todos os dados estão sendo representados numericamente"
      ]
    },
    {
      "cell_type": "code",
      "execution_count": null,
      "id": "96441258-4bb4-43ad-8887-d6512a71641d",
      "metadata": {
        "colab": {
          "base_uri": "https://localhost:8080/"
        },
        "id": "96441258-4bb4-43ad-8887-d6512a71641d",
        "outputId": "4a8c07e5-1b5b-4897-8250-643a8340ccd6"
      },
      "outputs": [
        {
          "output_type": "stream",
          "name": "stdout",
          "text": [
            "<class 'pandas.core.frame.DataFrame'>\n",
            "RangeIndex: 5110 entries, 0 to 5109\n",
            "Data columns (total 11 columns):\n",
            " #   Column             Non-Null Count  Dtype \n",
            "---  ------             --------------  ----- \n",
            " 0   gender             5110 non-null   object\n",
            " 1   age                5110 non-null   object\n",
            " 2   hypertension       5110 non-null   object\n",
            " 3   heart_disease      5110 non-null   object\n",
            " 4   ever_married       5110 non-null   object\n",
            " 5   work_type          5110 non-null   object\n",
            " 6   Residence_type     5110 non-null   object\n",
            " 7   avg_glucose_level  5110 non-null   object\n",
            " 8   bmi                5110 non-null   object\n",
            " 9   smoking_status     5110 non-null   object\n",
            " 10  stroke             5110 non-null   object\n",
            "dtypes: object(11)\n",
            "memory usage: 439.3+ KB\n"
          ]
        }
      ],
      "source": [
        "## verificando os tipos das variáveis no data frame\n",
        "dados.info()"
      ]
    },
    {
      "cell_type": "markdown",
      "id": "6700998c-59d7-4bbb-bfb4-3f6976ae258b",
      "metadata": {
        "id": "6700998c-59d7-4bbb-bfb4-3f6976ae258b"
      },
      "source": [
        "📌 Todas as variáveis estão objeto, temos que mudar para inteiros (int) e contínuos (float)"
      ]
    },
    {
      "cell_type": "code",
      "execution_count": null,
      "id": "db883cc7-942b-4944-943b-16dfab40ebb0",
      "metadata": {
        "id": "db883cc7-942b-4944-943b-16dfab40ebb0"
      },
      "outputs": [],
      "source": [
        "dados = dados.infer_objects()"
      ]
    },
    {
      "cell_type": "code",
      "execution_count": null,
      "id": "890c33e1-e34c-4bc8-83dc-d50e857e4892",
      "metadata": {
        "colab": {
          "base_uri": "https://localhost:8080/"
        },
        "id": "890c33e1-e34c-4bc8-83dc-d50e857e4892",
        "outputId": "2fa86d69-77ad-4113-d858-eccd73b23cf4"
      },
      "outputs": [
        {
          "output_type": "stream",
          "name": "stdout",
          "text": [
            "<class 'pandas.core.frame.DataFrame'>\n",
            "RangeIndex: 5110 entries, 0 to 5109\n",
            "Data columns (total 11 columns):\n",
            " #   Column             Non-Null Count  Dtype  \n",
            "---  ------             --------------  -----  \n",
            " 0   gender             5110 non-null   int64  \n",
            " 1   age                5110 non-null   float64\n",
            " 2   hypertension       5110 non-null   int64  \n",
            " 3   heart_disease      5110 non-null   int64  \n",
            " 4   ever_married       5110 non-null   int64  \n",
            " 5   work_type          5110 non-null   int64  \n",
            " 6   Residence_type     5110 non-null   int64  \n",
            " 7   avg_glucose_level  5110 non-null   float64\n",
            " 8   bmi                5110 non-null   float64\n",
            " 9   smoking_status     5110 non-null   int64  \n",
            " 10  stroke             5110 non-null   int64  \n",
            "dtypes: float64(3), int64(8)\n",
            "memory usage: 439.3 KB\n"
          ]
        }
      ],
      "source": [
        "dados.info()"
      ]
    },
    {
      "cell_type": "markdown",
      "id": "18e63c88-8a4b-4e6d-a1ba-9fdc6fc29191",
      "metadata": {
        "id": "18e63c88-8a4b-4e6d-a1ba-9fdc6fc29191"
      },
      "source": [
        "📌 Agora sim podemos seguir para a análise de correlação "
      ]
    },
    {
      "cell_type": "code",
      "execution_count": null,
      "id": "d6145bbd-074a-469b-b272-723c10ea5974",
      "metadata": {
        "colab": {
          "base_uri": "https://localhost:8080/",
          "height": 530
        },
        "id": "d6145bbd-074a-469b-b272-723c10ea5974",
        "outputId": "89625455-47bc-4431-8b87-c741724b7c11"
      },
      "outputs": [
        {
          "output_type": "execute_result",
          "data": {
            "text/plain": [
              "<matplotlib.axes._subplots.AxesSubplot at 0x7fe5f171df10>"
            ]
          },
          "metadata": {},
          "execution_count": 48
        },
        {
          "output_type": "display_data",
          "data": {
            "text/plain": [
              "<Figure size 1008x504 with 2 Axes>"
            ],
            "image/png": "[encoded data removed]"
          },
          "metadata": {
            "needs_background": "light"
          }
        }
      ],
      "source": [
        "correlation = dados.corr().round(2)\n",
        "plt.figure(figsize = (14,7))\n",
        "sns.heatmap(correlation, annot = True, cmap = 'Blues')"
      ]
    },
    {
      "cell_type": "markdown",
      "id": "274cbaa0-c2d1-416f-89f0-4fcd9d237e76",
      "metadata": {
        "id": "274cbaa0-c2d1-416f-89f0-4fcd9d237e76"
      },
      "source": [
        "📌 Podemos destacar aqui que as variáveis mais correlacionadas entre sí são `ever_married` e `age`. As outras variáveis apresentaram poquíssima ou nenhuma correlação entre sí."
      ]
    }
  ],
  "metadata": {
    "kernelspec": {
      "display_name": "Python 3 (ipykernel)",
      "language": "python",
      "name": "python3"
    },
    "language_info": {
      "codemirror_mode": {
        "name": "ipython",
        "version": 3
      },
      "file_extension": ".py",
      "mimetype": "text/x-python",
      "name": "python",
      "nbconvert_exporter": "python",
      "pygments_lexer": "ipython3",
      "version": "3.9.7"
    },
    "colab": {
      "name": "aulas1e3.ipynb",
      "provenance": []
    }
  },
  "nbformat": 4,
  "nbformat_minor": 5
}